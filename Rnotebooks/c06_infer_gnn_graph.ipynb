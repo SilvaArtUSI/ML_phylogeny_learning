{
 "cells": [
  {
   "attachments": {},
   "cell_type": "markdown",
   "metadata": {},
   "source": [
    "## Importing libraries"
   ]
  },
  {
   "cell_type": "code",
   "execution_count": 1,
   "metadata": {},
   "outputs": [],
   "source": [
    "import torch\n",
    "from torch_geometric.data import Data\n",
    "from torch_geometric.data import InMemoryDataset\n",
    "from torch_geometric.loader import DataLoader\n",
    "import torch.nn.functional as F\n",
    "from torch_geometric.nn import GraphConv, GCNConv, SAGEConv # Graph Neural Network \n",
    "from torch_geometric.nn import global_mean_pool \n",
    "import rpy2.robjects as robjects # load R object \n",
    "from rpy2.robjects import pandas2ri # load R object \n",
    "from tqdm import tqdm # print progress bar \n",
    "import pickle # save object \n",
    "import matplotlib.pyplot as plt\n",
    "import numpy as np\n",
    "import random as rd \n",
    "import pandas as pd"
   ]
  },
  {
   "attachments": {},
   "cell_type": "markdown",
   "metadata": {},
   "source": [
    "Load trees and corresponding target parameters and convert them to pandas data.frame"
   ]
  },
  {
   "cell_type": "code",
   "execution_count": 2,
   "metadata": {},
   "outputs": [],
   "source": [
    "pandas2ri.activate()\n",
    "\n",
    "#fname_graph = \"data/phylogeny-DDD-nt-1e+05-la0-0.5-1.5-mu-0.05-0.5-k-10-20-age-15-ddmod-1-graph.rds\"\n",
    "#fname_param = \"data/true-param-DDD-nt-1e+05-la0-0.5-1.5-mu-0.05-0.5-k-10-20-age-15-ddmod-1.rds\"\n",
    "\n",
    "fname_graph = \"data_clas/phylogeny-all-graph.rds\"\n",
    "fname_param = \"data_clas/phylo-true-clas-all.rds\"\n",
    "\n",
    "readRDS = robjects.r['readRDS']\n",
    "df_graph = readRDS(fname_graph)\n",
    "df_graph = pandas2ri.rpy2py(df_graph)\n",
    "df_param = readRDS(fname_param)\n",
    "df_param = pandas2ri.rpy2py(df_param)\n",
    "\n",
    "\n",
    "#df_param[2] = df_param[2]/100\n",
    "#df_param[3] = df_param[3]/100\n",
    "\n",
    "#removing crown age from predictions\n",
    "#df_param = df_param[0:3]\n"
   ]
  },
  {
   "attachments": {},
   "cell_type": "markdown",
   "metadata": {},
   "source": [
    "# Simulating Indices"
   ]
  },
  {
   "cell_type": "code",
   "execution_count": 5,
   "metadata": {},
   "outputs": [],
   "source": [
    "import random\n",
    "\n",
    "preselected_sets = False\n",
    "subset_size = 40000 # Specify the size of the subset\n",
    "file_of_index = \"data/10_3_indices_set_-DDD-Totalset-10000-SubSiz-10000-.rds\" # to use the same as R\n",
    "\n",
    "if preselected_sets == True:\n",
    "    ind = readRDS(file_of_index) \n",
    "    ind = pandas2ri.rpy2py(ind)\n",
    "\n",
    "    train, valid, test = ind\n",
    "    train_ind, valid_ind, test_ind = list(train), list(valid), list(test)\n",
    "    #print(train_ind[1])\n",
    "    train_ind, valid_ind, test_ind = [i-1 for i in train_ind], [i-1 for i in valid_ind], [i-1 for i in test_ind]\n",
    "    #print(train_ind[1])\n",
    "\n",
    "else:\n",
    "    #total_data_points = len(df_graph)\n",
    "    total_data_points = 40000\n",
    "    subset_size = 40000-1  # Specify the size of the subset\n",
    "\n",
    "    n_train = int(subset_size * 0.9)\n",
    "    n_valid = int(subset_size * 0.05)\n",
    "    n_test = subset_size - n_train - n_valid\n",
    "    batch_size = min(int(subset_size * 0.01), 10)\n",
    "\n",
    "    # Pick the phylogenies randomly.\n",
    "    #true[2] = true[2] / 100\n",
    "    #true[3] = true[3] / 100\n",
    "    #ds = convert_encode_to_dataset(cblv, true)\n",
    "\n",
    "    # Pick the random subset of data points.\n",
    "    subset_indices = random.sample(range(1, total_data_points), subset_size)\n",
    "\n",
    "    # Split the subset into train, validation, and test indices.\n",
    "    train_ind = subset_indices[:n_train]\n",
    "    valid_ind = subset_indices[n_train:(n_train + n_valid)]\n",
    "    test_ind = subset_indices[(n_train + n_valid):subset_size]"
   ]
  },
  {
   "attachments": {},
   "cell_type": "markdown",
   "metadata": {},
   "source": [
    "Checking the total number of trees of the dataset (n_trees) and the number of target parameters for each tree (n_param)"
   ]
  },
  {
   "cell_type": "code",
   "execution_count": 6,
   "metadata": {},
   "outputs": [],
   "source": [
    "n_param = len(df_param)\n",
    "n_trees = len(df_graph)"
   ]
  },
  {
   "cell_type": "code",
   "execution_count": 7,
   "metadata": {},
   "outputs": [],
   "source": [
    "def convert_df_to_tensor(df_node, df_edge, params):\n",
    "\n",
    "    \"\"\"\n",
    "    Convert the data frames containing node and edge information \n",
    "    to a torch tensor that can be used to feed neural \n",
    "    \"\"\"\n",
    "\n",
    "    n_node, n_edge = df_node.shape[0], df_edge.shape[0]\n",
    "    #n_node, n_edge = int(robjects.r(\"nrow\")(df_node)[0]), int(robjects.r(\"nrow\")(df_edge)[0])\n",
    "\n",
    "    #pandas_df_node = pd.DataFrame(df_node)\n",
    "    #pandas_df_edge = pandas2ri.ri2py_dataframe(df_edge)\n",
    "\n",
    "    l1, l2 = [], []\n",
    "    \n",
    "    for i in range(n_edge):\n",
    "        #print(type(pandas_df_node))\n",
    "        edge = df_edge.iloc[i]\n",
    "        u, v = edge[0]-1, edge[1]-1\n",
    "        l1 = l1 + [u,v]\n",
    "        l2 = l2 + [v,u]\n",
    "\n",
    "    edge_index = torch.tensor([l1,l2], dtype=torch.long)\n",
    "\n",
    "    x = []\n",
    "\n",
    "    for i in range(n_node):\n",
    "        node_attr = list(df_node.iloc[i])\n",
    "        x.append(node_attr)\n",
    "\n",
    "    x = torch.tensor(x, dtype = torch.float)\n",
    "\n",
    "    y = torch.tensor(params, dtype = torch.float)\n",
    "\n",
    "    data = Data(x = x, edge_index = edge_index, y = y)\n",
    "\n",
    "    return(data)"
   ]
  },
  {
   "attachments": {},
   "cell_type": "markdown",
   "metadata": {},
   "source": [
    "# Preparing data for training"
   ]
  },
  {
   "cell_type": "code",
   "execution_count": 254,
   "metadata": {},
   "outputs": [
    {
     "name": "stderr",
     "output_type": "stream",
     "text": [
      "100%|██████████| 20000/20000 [14:55:53<00:00,  2.69s/it]      \n"
     ]
    }
   ],
   "source": [
    "batch_size_max = 64\n",
    "data_list  = []\n",
    "\n",
    "for n in tqdm(range(20000)):\n",
    "    df_node, df_edge = df_graph[n][0], df_graph[n][1]\n",
    "    params = [df_param[i][n] for i in range(n_param)]\n",
    "    data = convert_df_to_tensor( pandas2ri.rpy2py(df_node), pandas2ri.rpy2py(df_edge), params)\n",
    "    data_list.append(data)\n",
    "\n",
    "#dataloader = DataLoader(data_list, batch_size=batch_size_max)"
   ]
  },
  {
   "attachments": {},
   "cell_type": "markdown",
   "metadata": {},
   "source": [
    "Save or load dataset"
   ]
  },
  {
   "cell_type": "code",
   "execution_count": 10,
   "metadata": {},
   "outputs": [
    {
     "data": {
      "text/plain": [
       "'data_clas/true-param-all-'"
      ]
     },
     "execution_count": 10,
     "metadata": {},
     "output_type": "execute_result"
    }
   ],
   "source": [
    "fname_param[:-9]"
   ]
  },
  {
   "cell_type": "code",
   "execution_count": 8,
   "metadata": {},
   "outputs": [
    {
     "name": "stdout",
     "output_type": "stream",
     "text": [
      "Load\n"
     ]
    }
   ],
   "source": [
    "save = True\n",
    "\n",
    "fname = fname_param[:-9] + \"geomtensor\" + \".obj\" # file name \n",
    "if (save):\n",
    "    print(\"Save\")\n",
    "    file = open(fname, \"wb\") # file handler \n",
    "    pickle.dump(data_list, file) # save data_list\n",
    "\n",
    "else:\n",
    "    print(\"Load\")\n",
    "    file = open(fname, \"rb\")\n",
    "    data_list = pickle.load(file) "
   ]
  },
  {
   "cell_type": "code",
   "execution_count": 5,
   "metadata": {},
   "outputs": [
    {
     "name": "stdout",
     "output_type": "stream",
     "text": [
      "Load\n"
     ]
    },
    {
     "ename": "NameError",
     "evalue": "name 'fname' is not defined",
     "output_type": "error",
     "traceback": [
      "\u001b[0;31m---------------------------------------------------------------------------\u001b[0m",
      "\u001b[0;31mNameError\u001b[0m                                 Traceback (most recent call last)",
      "\u001b[1;32m/Users/oasc/Documents/Thesis/DDD_100k/06_DDD_infer_gnn_graph.ipynb Cell 15\u001b[0m in \u001b[0;36m<cell line: 2>\u001b[0;34m()\u001b[0m\n\u001b[1;32m      <a href='vscode-notebook-cell:/Users/oasc/Documents/Thesis/DDD_100k/06_DDD_infer_gnn_graph.ipynb#X20sZmlsZQ%3D%3D?line=0'>1</a>\u001b[0m \u001b[39mprint\u001b[39m(\u001b[39m\"\u001b[39m\u001b[39mLoad\u001b[39m\u001b[39m\"\u001b[39m)\n\u001b[0;32m----> <a href='vscode-notebook-cell:/Users/oasc/Documents/Thesis/DDD_100k/06_DDD_infer_gnn_graph.ipynb#X20sZmlsZQ%3D%3D?line=1'>2</a>\u001b[0m file \u001b[39m=\u001b[39m \u001b[39mopen\u001b[39m(fname, \u001b[39m\"\u001b[39m\u001b[39mrb\u001b[39m\u001b[39m\"\u001b[39m)\n\u001b[1;32m      <a href='vscode-notebook-cell:/Users/oasc/Documents/Thesis/DDD_100k/06_DDD_infer_gnn_graph.ipynb#X20sZmlsZQ%3D%3D?line=2'>3</a>\u001b[0m data_list \u001b[39m=\u001b[39m pickle\u001b[39m.\u001b[39mload(file)\n",
      "\u001b[0;31mNameError\u001b[0m: name 'fname' is not defined"
     ]
    }
   ],
   "source": [
    "print(\"Load\")\n",
    "file = open(fname, \"rb\")\n",
    "data_list = pickle.load(file) "
   ]
  },
  {
   "attachments": {},
   "cell_type": "markdown",
   "metadata": {},
   "source": [
    "Split dataset into train, valid and test set."
   ]
  },
  {
   "cell_type": "code",
   "execution_count": 263,
   "metadata": {},
   "outputs": [
    {
     "name": "stdout",
     "output_type": "stream",
     "text": [
      "tensor([0., 1., 0., 0.])\n"
     ]
    }
   ],
   "source": [
    "print(data_list[2999].y)"
   ]
  },
  {
   "cell_type": "code",
   "execution_count": 9,
   "metadata": {},
   "outputs": [],
   "source": [
    "#device = \"cuda:2\" # GPU to use \n",
    "device=\"cpu\"\n",
    "batch_size_max = 32\n",
    "\n",
    "\n",
    "train_data = [data_list[i].to(device=device) for i in train_ind]\n",
    "valid_data = [data_list[i].to(device=device) for i in valid_ind]\n",
    "test_data  = [data_list[i].to(device=device) for i in test_ind]\n",
    "\n",
    "train_dl = DataLoader(train_data, batch_size = batch_size_max, shuffle = True)\n",
    "valid_dl = DataLoader(valid_data, batch_size = batch_size_max, shuffle = True)\n",
    "test_dl  = DataLoader(test_data , batch_size = 1)"
   ]
  },
  {
   "attachments": {},
   "cell_type": "markdown",
   "metadata": {},
   "source": [
    "Create the GNN structure"
   ]
  },
  {
   "cell_type": "code",
   "execution_count": 10,
   "metadata": {},
   "outputs": [],
   "source": [
    "class GCN(torch.nn.Module):\n",
    "    def __init__(self, n_in, n_hidden, n_out):\n",
    "        super().__init__()\n",
    "        self.conv1 = GCNConv(n_in, n_hidden)\n",
    "        self.conv2 = GCNConv(n_hidden, n_hidden)\n",
    "        self.conv3 = GCNConv(n_hidden, n_hidden)\n",
    "        self.conv4 = GCNConv(n_hidden, n_hidden)\n",
    "        self.conv5 = GCNConv(n_hidden, 2*n_hidden)\n",
    "        self.lin1  = torch.nn.Linear(2*n_hidden, n_hidden)\n",
    "        self.lin2  = torch.nn.Linear(n_hidden, n_out)\n",
    "\n",
    "    def forward(self, data):\n",
    "        x, edge_index, batch = data.x, data.edge_index, data.batch\n",
    "        x = self.conv1(x, edge_index)\n",
    "        x = F.relu(x)\n",
    "        x = F.dropout(x, p = 0.5, training=self.training)\n",
    "        x = self.conv2(x, edge_index)\n",
    "        x = F.relu(x)\n",
    "        x = F.dropout(x, p = 0.5, training=self.training)\n",
    "        x = self.conv3(x, edge_index)\n",
    "        x = F.relu(x)\n",
    "        x = F.dropout(x, p = 0.5, training=self.training)\n",
    "        x = self.conv4(x, edge_index)\n",
    "        x = F.relu(x)\n",
    "        x = F.dropout(x, p = 0.5, training=self.training)\n",
    "        x = self.conv5(x, edge_index)\n",
    "        x = F.relu(x)\n",
    "        x = F.dropout(x, p = 0.5, training=self.training)\n",
    "        x = global_mean_pool(x, batch)\n",
    "        x = self.lin1(x)\n",
    "        x = self.lin2(x)\n",
    "        return x"
   ]
  },
  {
   "cell_type": "code",
   "execution_count": 11,
   "metadata": {},
   "outputs": [],
   "source": [
    "def train(model, batch):\n",
    "    optimizer.zero_grad()\n",
    "    out = model(batch)\n",
    "    batch_size = int(max(data.batch) + 1) # number of trees in the batch \n",
    "    loss = F.cross_entropy(out, data.y.reshape([batch_size, n_out])) # compute loss \n",
    "    loss.backward() # backward propagation \n",
    "    optimizer.step()\n",
    "    acc=torch.sum(torch.argmax(data.y.reshape([batch_size, n_out]),axis=1)==torch.argmax(out,dim=1)).item()\n",
    "    return(loss,acc/batch_size)\n",
    "\n",
    "def valid(model, batch):\n",
    "    out = model(batch)\n",
    "    batch_size = int(max(data.batch) + 1) # number of trees in the batch \n",
    "    loss = F.cross_entropy(out, data.y.reshape([batch_size, n_out])) # compute loss\n",
    "    acc=torch.sum(torch.argmax(data.y.reshape([batch_size, n_out]),axis=1)==torch.argmax(out,dim=1)).item()\n",
    "    #total = out.size(dim=0)\n",
    "    return(loss,acc/batch_size)\n"
   ]
  },
  {
   "cell_type": "code",
   "execution_count": 245,
   "metadata": {},
   "outputs": [
    {
     "data": {
      "text/plain": [
       "6"
      ]
     },
     "execution_count": 245,
     "metadata": {},
     "output_type": "execute_result"
    }
   ],
   "source": [
    "data_list[1000].num_node_features\n"
   ]
  },
  {
   "cell_type": "code",
   "execution_count": 12,
   "metadata": {},
   "outputs": [],
   "source": [
    "# Setting up the training \n",
    "n_in = data_list[0].num_node_features\n",
    "n_out = len(data_list[0].y)\n",
    "n_hidden = 100\n",
    "n_epochs = 100\n",
    "model = GCN(n_in, n_hidden, n_out).to(device=device)\n",
    "optimizer = torch.optim.Adam(model.parameters(), lr=0.01, weight_decay=5e-4)\n",
    "loss_fn = F.cross_entropy"
   ]
  },
  {
   "cell_type": "code",
   "execution_count": 13,
   "metadata": {},
   "outputs": [
    {
     "name": "stderr",
     "output_type": "stream",
     "text": [
      "100%|██████████| 1125/1125 [11:37<00:00,  1.61it/s]\n"
     ]
    },
    {
     "name": "stdout",
     "output_type": "stream",
     "text": [
      "Epoch 0 - Train Loss : 0.7233 Train Acc : 0.5057\n"
     ]
    },
    {
     "name": "stderr",
     "output_type": "stream",
     "text": [
      "100%|██████████| 63/63 [00:21<00:00,  2.87it/s]\n"
     ]
    },
    {
     "name": "stdout",
     "output_type": "stream",
     "text": [
      "Epoch 0 - Valid Loss : 0.7037 Train Acc : 0.4801\n"
     ]
    },
    {
     "name": "stderr",
     "output_type": "stream",
     "text": [
      "100%|██████████| 1125/1125 [11:18<00:00,  1.66it/s]\n"
     ]
    },
    {
     "name": "stdout",
     "output_type": "stream",
     "text": [
      "Epoch 1 - Train Loss : 0.7016 Train Acc : 0.5101\n"
     ]
    },
    {
     "name": "stderr",
     "output_type": "stream",
     "text": [
      "100%|██████████| 63/63 [00:19<00:00,  3.21it/s]\n"
     ]
    },
    {
     "name": "stdout",
     "output_type": "stream",
     "text": [
      "Epoch 1 - Valid Loss : 0.7014 Train Acc : 0.4876\n"
     ]
    },
    {
     "name": "stderr",
     "output_type": "stream",
     "text": [
      "100%|██████████| 1125/1125 [11:41<00:00,  1.60it/s]\n"
     ]
    },
    {
     "name": "stdout",
     "output_type": "stream",
     "text": [
      "Epoch 2 - Train Loss : 0.7033 Train Acc : 0.5037\n"
     ]
    },
    {
     "name": "stderr",
     "output_type": "stream",
     "text": [
      "100%|██████████| 63/63 [00:24<00:00,  2.59it/s]\n"
     ]
    },
    {
     "name": "stdout",
     "output_type": "stream",
     "text": [
      "Epoch 2 - Valid Loss : 0.7222 Train Acc : 0.4807\n"
     ]
    },
    {
     "name": "stderr",
     "output_type": "stream",
     "text": [
      "100%|██████████| 1125/1125 [12:51<00:00,  1.46it/s]\n"
     ]
    },
    {
     "name": "stdout",
     "output_type": "stream",
     "text": [
      "Epoch 3 - Train Loss : 0.7039 Train Acc : 0.5043\n"
     ]
    },
    {
     "name": "stderr",
     "output_type": "stream",
     "text": [
      "100%|██████████| 63/63 [00:22<00:00,  2.86it/s]\n"
     ]
    },
    {
     "name": "stdout",
     "output_type": "stream",
     "text": [
      "Epoch 3 - Valid Loss : 0.6969 Train Acc : 0.5182\n"
     ]
    },
    {
     "name": "stderr",
     "output_type": "stream",
     "text": [
      "100%|██████████| 1125/1125 [12:50<00:00,  1.46it/s]\n"
     ]
    },
    {
     "name": "stdout",
     "output_type": "stream",
     "text": [
      "Epoch 4 - Train Loss : 0.6993 Train Acc : 0.5087\n"
     ]
    },
    {
     "name": "stderr",
     "output_type": "stream",
     "text": [
      "100%|██████████| 63/63 [00:22<00:00,  2.81it/s]\n"
     ]
    },
    {
     "name": "stdout",
     "output_type": "stream",
     "text": [
      "Epoch 4 - Valid Loss : 0.6980 Train Acc : 0.5215\n"
     ]
    },
    {
     "name": "stderr",
     "output_type": "stream",
     "text": [
      "100%|██████████| 1125/1125 [12:14<00:00,  1.53it/s]\n"
     ]
    },
    {
     "name": "stdout",
     "output_type": "stream",
     "text": [
      "Epoch 5 - Train Loss : 0.6977 Train Acc : 0.5171\n"
     ]
    },
    {
     "name": "stderr",
     "output_type": "stream",
     "text": [
      "100%|██████████| 63/63 [00:25<00:00,  2.48it/s]\n"
     ]
    },
    {
     "name": "stdout",
     "output_type": "stream",
     "text": [
      "Epoch 5 - Valid Loss : 0.6922 Train Acc : 0.4861\n"
     ]
    },
    {
     "name": "stderr",
     "output_type": "stream",
     "text": [
      "100%|██████████| 1125/1125 [12:31<00:00,  1.50it/s]\n"
     ]
    },
    {
     "name": "stdout",
     "output_type": "stream",
     "text": [
      "Epoch 6 - Train Loss : 0.7002 Train Acc : 0.5101\n"
     ]
    },
    {
     "name": "stderr",
     "output_type": "stream",
     "text": [
      "100%|██████████| 63/63 [00:23<00:00,  2.64it/s]\n"
     ]
    },
    {
     "name": "stdout",
     "output_type": "stream",
     "text": [
      "Epoch 6 - Valid Loss : 0.7101 Train Acc : 0.4801\n"
     ]
    },
    {
     "name": "stderr",
     "output_type": "stream",
     "text": [
      "100%|██████████| 1125/1125 [12:55<00:00,  1.45it/s]\n"
     ]
    },
    {
     "name": "stdout",
     "output_type": "stream",
     "text": [
      "Epoch 7 - Train Loss : 0.7012 Train Acc : 0.5093\n"
     ]
    },
    {
     "name": "stderr",
     "output_type": "stream",
     "text": [
      "100%|██████████| 63/63 [00:24<00:00,  2.53it/s]\n"
     ]
    },
    {
     "name": "stdout",
     "output_type": "stream",
     "text": [
      "Epoch 7 - Valid Loss : 0.6967 Train Acc : 0.5221\n"
     ]
    },
    {
     "name": "stderr",
     "output_type": "stream",
     "text": [
      "100%|██████████| 1125/1125 [12:41<00:00,  1.48it/s]\n"
     ]
    },
    {
     "name": "stdout",
     "output_type": "stream",
     "text": [
      "Epoch 8 - Train Loss : 0.7032 Train Acc : 0.5108\n"
     ]
    },
    {
     "name": "stderr",
     "output_type": "stream",
     "text": [
      "100%|██████████| 63/63 [00:22<00:00,  2.85it/s]\n"
     ]
    },
    {
     "name": "stdout",
     "output_type": "stream",
     "text": [
      "Epoch 8 - Valid Loss : 0.6910 Train Acc : 0.5302\n"
     ]
    },
    {
     "name": "stderr",
     "output_type": "stream",
     "text": [
      "100%|██████████| 1125/1125 [11:00<00:00,  1.70it/s]\n"
     ]
    },
    {
     "name": "stdout",
     "output_type": "stream",
     "text": [
      "Epoch 9 - Train Loss : 0.6958 Train Acc : 0.5168\n"
     ]
    },
    {
     "name": "stderr",
     "output_type": "stream",
     "text": [
      "100%|██████████| 63/63 [00:27<00:00,  2.29it/s]\n"
     ]
    },
    {
     "name": "stdout",
     "output_type": "stream",
     "text": [
      "Epoch 9 - Valid Loss : 0.7001 Train Acc : 0.5209\n"
     ]
    },
    {
     "name": "stderr",
     "output_type": "stream",
     "text": [
      "100%|██████████| 1125/1125 [13:07<00:00,  1.43it/s]\n"
     ]
    },
    {
     "name": "stdout",
     "output_type": "stream",
     "text": [
      "Epoch 10 - Train Loss : 0.6953 Train Acc : 0.5193\n"
     ]
    },
    {
     "name": "stderr",
     "output_type": "stream",
     "text": [
      "100%|██████████| 63/63 [00:24<00:00,  2.60it/s]\n"
     ]
    },
    {
     "name": "stdout",
     "output_type": "stream",
     "text": [
      "Epoch 10 - Valid Loss : 0.6885 Train Acc : 0.5214\n"
     ]
    },
    {
     "name": "stderr",
     "output_type": "stream",
     "text": [
      "100%|██████████| 1125/1125 [12:00<00:00,  1.56it/s]\n"
     ]
    },
    {
     "name": "stdout",
     "output_type": "stream",
     "text": [
      "Epoch 11 - Train Loss : 0.6985 Train Acc : 0.5072\n"
     ]
    },
    {
     "name": "stderr",
     "output_type": "stream",
     "text": [
      "100%|██████████| 63/63 [00:21<00:00,  2.94it/s]\n"
     ]
    },
    {
     "name": "stdout",
     "output_type": "stream",
     "text": [
      "Epoch 11 - Valid Loss : 0.7017 Train Acc : 0.5214\n"
     ]
    },
    {
     "name": "stderr",
     "output_type": "stream",
     "text": [
      "100%|██████████| 1125/1125 [12:07<00:00,  1.55it/s]\n"
     ]
    },
    {
     "name": "stdout",
     "output_type": "stream",
     "text": [
      "Epoch 12 - Train Loss : 0.7049 Train Acc : 0.5057\n"
     ]
    },
    {
     "name": "stderr",
     "output_type": "stream",
     "text": [
      "100%|██████████| 63/63 [00:25<00:00,  2.44it/s]\n"
     ]
    },
    {
     "name": "stdout",
     "output_type": "stream",
     "text": [
      "Epoch 12 - Valid Loss : 0.7077 Train Acc : 0.4813\n"
     ]
    },
    {
     "name": "stderr",
     "output_type": "stream",
     "text": [
      "100%|██████████| 1125/1125 [13:48<00:00,  1.36it/s]\n"
     ]
    },
    {
     "name": "stdout",
     "output_type": "stream",
     "text": [
      "Epoch 13 - Train Loss : 0.7033 Train Acc : 0.4968\n"
     ]
    },
    {
     "name": "stderr",
     "output_type": "stream",
     "text": [
      "100%|██████████| 63/63 [00:20<00:00,  3.02it/s]\n"
     ]
    },
    {
     "name": "stdout",
     "output_type": "stream",
     "text": [
      "Epoch 13 - Valid Loss : 0.6986 Train Acc : 0.5178\n"
     ]
    },
    {
     "name": "stderr",
     "output_type": "stream",
     "text": [
      "100%|██████████| 1125/1125 [13:59<00:00,  1.34it/s]\n"
     ]
    },
    {
     "name": "stdout",
     "output_type": "stream",
     "text": [
      "Epoch 14 - Train Loss : 0.7058 Train Acc : 0.5031\n"
     ]
    },
    {
     "name": "stderr",
     "output_type": "stream",
     "text": [
      "100%|██████████| 63/63 [00:22<00:00,  2.77it/s]\n"
     ]
    },
    {
     "name": "stdout",
     "output_type": "stream",
     "text": [
      "Epoch 14 - Valid Loss : 0.6947 Train Acc : 0.5193\n"
     ]
    },
    {
     "name": "stderr",
     "output_type": "stream",
     "text": [
      "100%|██████████| 1125/1125 [12:37<00:00,  1.49it/s]\n"
     ]
    },
    {
     "name": "stdout",
     "output_type": "stream",
     "text": [
      "Epoch 15 - Train Loss : 0.7064 Train Acc : 0.4966\n"
     ]
    },
    {
     "name": "stderr",
     "output_type": "stream",
     "text": [
      "100%|██████████| 63/63 [00:27<00:00,  2.27it/s]\n"
     ]
    },
    {
     "name": "stdout",
     "output_type": "stream",
     "text": [
      "Epoch 15 - Valid Loss : 0.6975 Train Acc : 0.5193\n"
     ]
    },
    {
     "name": "stderr",
     "output_type": "stream",
     "text": [
      "100%|██████████| 1125/1125 [12:21<00:00,  1.52it/s]\n"
     ]
    },
    {
     "name": "stdout",
     "output_type": "stream",
     "text": [
      "Epoch 16 - Train Loss : 0.7022 Train Acc : 0.4975\n"
     ]
    },
    {
     "name": "stderr",
     "output_type": "stream",
     "text": [
      "100%|██████████| 63/63 [00:25<00:00,  2.47it/s]\n"
     ]
    },
    {
     "name": "stdout",
     "output_type": "stream",
     "text": [
      "Epoch 16 - Valid Loss : 0.7143 Train Acc : 0.4808\n"
     ]
    },
    {
     "name": "stderr",
     "output_type": "stream",
     "text": [
      "100%|██████████| 1125/1125 [12:00<00:00,  1.56it/s]\n"
     ]
    },
    {
     "name": "stdout",
     "output_type": "stream",
     "text": [
      "Epoch 17 - Train Loss : 0.6981 Train Acc : 0.5127\n"
     ]
    },
    {
     "name": "stderr",
     "output_type": "stream",
     "text": [
      "100%|██████████| 63/63 [00:24<00:00,  2.60it/s]\n"
     ]
    },
    {
     "name": "stdout",
     "output_type": "stream",
     "text": [
      "Epoch 17 - Valid Loss : 0.6859 Train Acc : 0.5194\n"
     ]
    },
    {
     "name": "stderr",
     "output_type": "stream",
     "text": [
      "100%|██████████| 1125/1125 [11:55<00:00,  1.57it/s]\n"
     ]
    },
    {
     "name": "stdout",
     "output_type": "stream",
     "text": [
      "Epoch 18 - Train Loss : 0.7013 Train Acc : 0.5180\n"
     ]
    },
    {
     "name": "stderr",
     "output_type": "stream",
     "text": [
      "100%|██████████| 63/63 [00:21<00:00,  2.90it/s]\n"
     ]
    },
    {
     "name": "stdout",
     "output_type": "stream",
     "text": [
      "Epoch 18 - Valid Loss : 0.6916 Train Acc : 0.5214\n"
     ]
    },
    {
     "name": "stderr",
     "output_type": "stream",
     "text": [
      "100%|██████████| 1125/1125 [11:55<00:00,  1.57it/s]\n"
     ]
    },
    {
     "name": "stdout",
     "output_type": "stream",
     "text": [
      "Epoch 19 - Train Loss : 0.6952 Train Acc : 0.5331\n"
     ]
    },
    {
     "name": "stderr",
     "output_type": "stream",
     "text": [
      "100%|██████████| 63/63 [00:20<00:00,  3.12it/s]\n"
     ]
    },
    {
     "name": "stdout",
     "output_type": "stream",
     "text": [
      "Epoch 19 - Valid Loss : 0.7089 Train Acc : 0.5180\n"
     ]
    },
    {
     "name": "stderr",
     "output_type": "stream",
     "text": [
      "100%|██████████| 1125/1125 [10:34<00:00,  1.77it/s]\n"
     ]
    },
    {
     "name": "stdout",
     "output_type": "stream",
     "text": [
      "Epoch 20 - Train Loss : 0.6927 Train Acc : 0.5312\n"
     ]
    },
    {
     "name": "stderr",
     "output_type": "stream",
     "text": [
      "100%|██████████| 63/63 [00:20<00:00,  3.01it/s]\n"
     ]
    },
    {
     "name": "stdout",
     "output_type": "stream",
     "text": [
      "Epoch 20 - Valid Loss : 0.6990 Train Acc : 0.5617\n"
     ]
    },
    {
     "name": "stderr",
     "output_type": "stream",
     "text": [
      "100%|██████████| 1125/1125 [10:41<00:00,  1.75it/s]\n"
     ]
    },
    {
     "name": "stdout",
     "output_type": "stream",
     "text": [
      "Epoch 21 - Train Loss : 0.6939 Train Acc : 0.5312\n"
     ]
    },
    {
     "name": "stderr",
     "output_type": "stream",
     "text": [
      "100%|██████████| 63/63 [00:19<00:00,  3.23it/s]\n"
     ]
    },
    {
     "name": "stdout",
     "output_type": "stream",
     "text": [
      "Epoch 21 - Valid Loss : 0.7004 Train Acc : 0.5240\n"
     ]
    },
    {
     "name": "stderr",
     "output_type": "stream",
     "text": [
      "100%|██████████| 1125/1125 [10:14<00:00,  1.83it/s]\n"
     ]
    },
    {
     "name": "stdout",
     "output_type": "stream",
     "text": [
      "Epoch 22 - Train Loss : 0.6931 Train Acc : 0.5270\n"
     ]
    },
    {
     "name": "stderr",
     "output_type": "stream",
     "text": [
      "100%|██████████| 63/63 [00:19<00:00,  3.31it/s]\n"
     ]
    },
    {
     "name": "stdout",
     "output_type": "stream",
     "text": [
      "Epoch 22 - Valid Loss : 0.6844 Train Acc : 0.5530\n"
     ]
    },
    {
     "name": "stderr",
     "output_type": "stream",
     "text": [
      "100%|██████████| 1125/1125 [10:24<00:00,  1.80it/s]\n"
     ]
    },
    {
     "name": "stdout",
     "output_type": "stream",
     "text": [
      "Epoch 23 - Train Loss : 0.6980 Train Acc : 0.5282\n"
     ]
    },
    {
     "name": "stderr",
     "output_type": "stream",
     "text": [
      "100%|██████████| 63/63 [00:18<00:00,  3.38it/s]\n"
     ]
    },
    {
     "name": "stdout",
     "output_type": "stream",
     "text": [
      "Epoch 23 - Valid Loss : 0.6901 Train Acc : 0.5258\n"
     ]
    },
    {
     "name": "stderr",
     "output_type": "stream",
     "text": [
      "100%|██████████| 1125/1125 [10:23<00:00,  1.80it/s]\n"
     ]
    },
    {
     "name": "stdout",
     "output_type": "stream",
     "text": [
      "Epoch 24 - Train Loss : 0.6948 Train Acc : 0.5272\n"
     ]
    },
    {
     "name": "stderr",
     "output_type": "stream",
     "text": [
      "100%|██████████| 63/63 [00:19<00:00,  3.26it/s]\n"
     ]
    },
    {
     "name": "stdout",
     "output_type": "stream",
     "text": [
      "Epoch 24 - Valid Loss : 0.7030 Train Acc : 0.5182\n"
     ]
    },
    {
     "name": "stderr",
     "output_type": "stream",
     "text": [
      "100%|██████████| 1125/1125 [10:18<00:00,  1.82it/s]\n"
     ]
    },
    {
     "name": "stdout",
     "output_type": "stream",
     "text": [
      "Epoch 25 - Train Loss : 0.6944 Train Acc : 0.5317\n"
     ]
    },
    {
     "name": "stderr",
     "output_type": "stream",
     "text": [
      "100%|██████████| 63/63 [00:18<00:00,  3.37it/s]\n"
     ]
    },
    {
     "name": "stdout",
     "output_type": "stream",
     "text": [
      "Epoch 25 - Valid Loss : 0.6862 Train Acc : 0.5173\n"
     ]
    },
    {
     "name": "stderr",
     "output_type": "stream",
     "text": [
      "100%|██████████| 1125/1125 [10:25<00:00,  1.80it/s]\n"
     ]
    },
    {
     "name": "stdout",
     "output_type": "stream",
     "text": [
      "Epoch 26 - Train Loss : 0.6984 Train Acc : 0.5288\n"
     ]
    },
    {
     "name": "stderr",
     "output_type": "stream",
     "text": [
      "100%|██████████| 63/63 [00:18<00:00,  3.34it/s]\n"
     ]
    },
    {
     "name": "stdout",
     "output_type": "stream",
     "text": [
      "Epoch 26 - Valid Loss : 0.6961 Train Acc : 0.4801\n"
     ]
    },
    {
     "name": "stderr",
     "output_type": "stream",
     "text": [
      "100%|██████████| 1125/1125 [10:24<00:00,  1.80it/s]\n"
     ]
    },
    {
     "name": "stdout",
     "output_type": "stream",
     "text": [
      "Epoch 27 - Train Loss : 0.6954 Train Acc : 0.5195\n"
     ]
    },
    {
     "name": "stderr",
     "output_type": "stream",
     "text": [
      "100%|██████████| 63/63 [00:20<00:00,  3.13it/s]\n"
     ]
    },
    {
     "name": "stdout",
     "output_type": "stream",
     "text": [
      "Epoch 27 - Valid Loss : 0.6946 Train Acc : 0.5070\n"
     ]
    },
    {
     "name": "stderr",
     "output_type": "stream",
     "text": [
      "100%|██████████| 1125/1125 [10:27<00:00,  1.79it/s]\n"
     ]
    },
    {
     "name": "stdout",
     "output_type": "stream",
     "text": [
      "Epoch 28 - Train Loss : 0.6970 Train Acc : 0.5176\n"
     ]
    },
    {
     "name": "stderr",
     "output_type": "stream",
     "text": [
      "100%|██████████| 63/63 [00:18<00:00,  3.35it/s]\n"
     ]
    },
    {
     "name": "stdout",
     "output_type": "stream",
     "text": [
      "Epoch 28 - Valid Loss : 0.6932 Train Acc : 0.5127\n"
     ]
    },
    {
     "name": "stderr",
     "output_type": "stream",
     "text": [
      "100%|██████████| 1125/1125 [10:29<00:00,  1.79it/s]\n"
     ]
    },
    {
     "name": "stdout",
     "output_type": "stream",
     "text": [
      "Epoch 29 - Train Loss : 0.6943 Train Acc : 0.5200\n"
     ]
    },
    {
     "name": "stderr",
     "output_type": "stream",
     "text": [
      "100%|██████████| 63/63 [00:18<00:00,  3.35it/s]\n"
     ]
    },
    {
     "name": "stdout",
     "output_type": "stream",
     "text": [
      "Epoch 29 - Valid Loss : 0.6905 Train Acc : 0.5378\n"
     ]
    },
    {
     "name": "stderr",
     "output_type": "stream",
     "text": [
      "100%|██████████| 1125/1125 [10:46<00:00,  1.74it/s]\n"
     ]
    },
    {
     "name": "stdout",
     "output_type": "stream",
     "text": [
      "Epoch 30 - Train Loss : 0.6970 Train Acc : 0.5161\n"
     ]
    },
    {
     "name": "stderr",
     "output_type": "stream",
     "text": [
      "100%|██████████| 63/63 [00:21<00:00,  2.96it/s]\n"
     ]
    },
    {
     "name": "stdout",
     "output_type": "stream",
     "text": [
      "Epoch 30 - Valid Loss : 0.6918 Train Acc : 0.5054\n"
     ]
    },
    {
     "name": "stderr",
     "output_type": "stream",
     "text": [
      "100%|██████████| 1125/1125 [13:32<00:00,  1.38it/s]\n"
     ]
    },
    {
     "name": "stdout",
     "output_type": "stream",
     "text": [
      "Epoch 31 - Train Loss : 0.6962 Train Acc : 0.5175\n"
     ]
    },
    {
     "name": "stderr",
     "output_type": "stream",
     "text": [
      "100%|██████████| 63/63 [00:22<00:00,  2.86it/s]\n"
     ]
    },
    {
     "name": "stdout",
     "output_type": "stream",
     "text": [
      "Epoch 31 - Valid Loss : 0.6884 Train Acc : 0.5360\n"
     ]
    },
    {
     "name": "stderr",
     "output_type": "stream",
     "text": [
      "100%|██████████| 1125/1125 [14:32<00:00,  1.29it/s]\n"
     ]
    },
    {
     "name": "stdout",
     "output_type": "stream",
     "text": [
      "Epoch 32 - Train Loss : 0.6960 Train Acc : 0.5187\n"
     ]
    },
    {
     "name": "stderr",
     "output_type": "stream",
     "text": [
      "100%|██████████| 63/63 [00:21<00:00,  2.97it/s]"
     ]
    },
    {
     "name": "stdout",
     "output_type": "stream",
     "text": [
      "Epoch 32 - Valid Loss : 0.6986 Train Acc : 0.4985\n",
      "Early stopping at epoch 32\n",
      "Best epoch: 22\n"
     ]
    },
    {
     "name": "stderr",
     "output_type": "stream",
     "text": [
      "\n"
     ]
    }
   ],
   "source": [
    "\n",
    "valid_list = []\n",
    "train_list = []\n",
    "\n",
    "train_acc_list = []\n",
    "valid_acc_list = []\n",
    "\n",
    "\n",
    "patience = 10  # Number of epochs to wait for improvement\n",
    "best_loss = float('inf')\n",
    "best_epoch = 0\n",
    "\n",
    "early_stop = False\n",
    "counter = 0\n",
    "\n",
    "\n",
    "\n",
    "# Training loop \n",
    "\n",
    "for epoch in range(n_epochs):\n",
    "    if early_stop:\n",
    "        break\n",
    "\n",
    "    # Training\n",
    "    model.train()\n",
    "    train_loss = []\n",
    "    train_acc = []\n",
    "    for data in tqdm(train_dl):\n",
    "        loss , acc = train(model, data)  # train model and get loss\n",
    "        loss = float(loss.to(device=\"cpu\"))\n",
    "        train_loss.append(loss)\n",
    "        train_acc.append(acc)\n",
    "    mean_loss = np.mean(train_loss)\n",
    "    mean_acc = np.mean(train_acc)\n",
    "\n",
    "    train_list.append(mean_loss)\n",
    "    train_acc_list.append(mean_acc)\n",
    "\n",
    "    print(\"Epoch %d - Train Loss : %.4f Train Acc : %.4f\" % (epoch, float(mean_loss),float(mean_acc)))  # print progression\n",
    "\n",
    "    # Validation\n",
    "    model.eval()\n",
    "    valid_loss = []\n",
    "    valid_acc = []\n",
    "    for data in tqdm(valid_dl):\n",
    "        loss,acc = valid(model, data)  # train model and get loss\n",
    "        loss = float(loss.to(device=\"cpu\"))\n",
    "        valid_loss.append(loss)\n",
    "        valid_acc.append(acc)\n",
    "    mean_loss = np.mean(valid_loss)\n",
    "    mean_acc = np.mean(valid_acc)\n",
    "\n",
    "\n",
    "    valid_list.append(mean_loss)\n",
    "    valid_acc_list.append(mean_acc)\n",
    "    print(\"Epoch %d - Valid Loss : %.4f Train Acc : %.4f\" % (epoch, float(mean_loss),float(mean_acc)))  # print progression\n",
    "\n",
    "    # Check for early stopping\n",
    "    if mean_loss < best_loss:\n",
    "        best_loss = mean_loss\n",
    "        best_epoch = epoch\n",
    "        counter = 0\n",
    "    else:\n",
    "        counter += 1\n",
    "        if counter >= patience:\n",
    "            print(\"Early stopping at epoch %d\" % (epoch))\n",
    "            early_stop = True\n",
    "\n",
    "print(\"Best epoch:\", best_epoch)"
   ]
  },
  {
   "cell_type": "code",
   "execution_count": 14,
   "metadata": {},
   "outputs": [
    {
     "data": {
      "image/png": "[encoded data removed]",
      "text/plain": [
       "<Figure size 432x288 with 1 Axes>"
      ]
     },
     "metadata": {
      "needs_background": "light"
     },
     "output_type": "display_data"
    },
    {
     "data": {
      "image/png": "[encoded data removed]",
      "text/plain": [
       "<Figure size 432x288 with 1 Axes>"
      ]
     },
     "metadata": {
      "needs_background": "light"
     },
     "output_type": "display_data"
    }
   ],
   "source": [
    "# Plotting the training and validation loss\n",
    "epochs = range(len(train_list))\n",
    "\n",
    "plt.plot(epochs, train_list, label='Train Loss')\n",
    "plt.plot(epochs, valid_list, label='Valid Loss')\n",
    "plt.xlabel('Epochs')\n",
    "plt.ylabel('Loss')\n",
    "plt.title('Training and Validation Loss')\n",
    "plt.legend()\n",
    "plt.show()\n",
    "\n",
    "\n",
    "epochs = range(len(train_list))\n",
    "\n",
    "plt.plot(epochs, train_acc_list, label='Train Accuracy')\n",
    "plt.plot(epochs, valid_acc_list, label='Valid Accuracy')\n",
    "plt.xlabel('Epochs')\n",
    "plt.ylabel('Accuracy')\n",
    "plt.title('Training and Validation Accuracy')\n",
    "plt.legend()\n",
    "plt.show()"
   ]
  },
  {
   "cell_type": "code",
   "execution_count": 20,
   "metadata": {},
   "outputs": [],
   "source": [
    "# Specify the file path to save the model\n",
    "file_path = 'GNN_phylo_class.pt'\n",
    "\n",
    "# Save the model\n",
    "torch.save(model.state_dict(), file_path)"
   ]
  },
  {
   "cell_type": "code",
   "execution_count": 18,
   "metadata": {},
   "outputs": [
    {
     "data": {
      "text/plain": [
       "<All keys matched successfully>"
      ]
     },
     "execution_count": 18,
     "metadata": {},
     "output_type": "execute_result"
    }
   ],
   "source": [
    "#model.load_state_dict(torch.load('GNN_phylo_class.pt'))"
   ]
  },
  {
   "cell_type": "code",
   "execution_count": 15,
   "metadata": {},
   "outputs": [],
   "source": [
    "#test_dl = DataLoader(data_list[:500], batch_size = 1)\n",
    "n_param = len(df_param)\n",
    "pred_list, true_list = [[0,0,0,0] for n in range(n_param)], [[] for n in range(n_param)]\n",
    "acc_sum = [0 ,0 ,0 ,0 ,0]\n",
    "total_sum = [0 ,0 ,0 ,0 ,0]\n",
    "\n",
    "\n",
    "\n",
    "model.eval()\n",
    "for data in test_dl:\n",
    "    out = model(data.to(device=device))\n",
    "    pred_params = torch.argmax(out,dim=1)[0]\n",
    "    true_params = torch.argmax(data.y,axis=0)\n",
    "\n",
    "    acc = torch.sum(torch.argmax(data.y,axis=0)==torch.argmax(out,dim=1)[0]).item()\n",
    "\n",
    "\n",
    "    pred_list[true_params][pred_params]+=1\n",
    "\n",
    "\n",
    "\n",
    "\n",
    "    if (true_params == 0):\n",
    "        acc_sum[true_params]    =   acc_sum[true_params] + acc\n",
    "        total_sum[true_params]  =   total_sum[true_params] + 1\n",
    "\n",
    "    elif (true_params == 1):\n",
    "        acc_sum[true_params]    =   acc_sum[true_params] + acc\n",
    "        total_sum[true_params]  =   total_sum[true_params] + 1\n",
    "    \n",
    "    elif (true_params == 2):\n",
    "        acc_sum[true_params]    =   acc_sum[true_params] + acc\n",
    "        total_sum[true_params]  =   total_sum[true_params] + 1\n",
    "    \n",
    "    elif (true_params == 3):\n",
    "        acc_sum[true_params]    =   acc_sum[true_params] + acc\n",
    "        total_sum[true_params]  =   total_sum[true_params] + 1\n",
    "\n",
    "acc_sum[4]    =   sum(acc_sum[:-1])\n",
    "total_sum[4]  =   sum(total_sum[:-1])\n",
    "\n",
    "\n",
    "\n"
   ]
  },
  {
   "cell_type": "code",
   "execution_count": 19,
   "metadata": {},
   "outputs": [
    {
     "name": "stdout",
     "output_type": "stream",
     "text": [
      "[73, 473, 513, 0, 1059]\n",
      "[507, 503, 513, 478, 2001]\n",
      "[[73, 434, 0, 0], [30, 473, 0, 0], [0, 0, 513, 0], [0, 0, 478, 0]]\n"
     ]
    }
   ],
   "source": [
    "print(acc_sum)\n",
    "print(total_sum)\n",
    "print(pred_list)"
   ]
  },
  {
   "cell_type": "code",
   "execution_count": 17,
   "metadata": {},
   "outputs": [
    {
     "name": "stdout",
     "output_type": "stream",
     "text": [
      "Accuracy pred CRBD: 0.144 ,Bisse: 0.940 ,DDD: 1.000 ,PLD: 0.000 ,Total: 0.529   \n"
     ]
    }
   ],
   "source": [
    "result = [a / b if b != 0 else 0 for a, b in zip(acc_sum, total_sum)]\n",
    "\n",
    "print(\"Accuracy pred CRBD: %.3f ,Bisse: %.3f ,DDD: %.3f ,PLD: %.3f ,Total: %.3f   \" % tuple(result))\n"
   ]
  },
  {
   "cell_type": "code",
   "execution_count": 18,
   "metadata": {},
   "outputs": [
    {
     "data": {
      "image/png": "[encoded data removed]",
      "text/plain": [
       "<Figure size 432x288 with 1 Axes>"
      ]
     },
     "metadata": {
      "needs_background": "light"
     },
     "output_type": "display_data"
    },
    {
     "data": {
      "image/png": "[encoded data removed]",
      "text/plain": [
       "<Figure size 432x288 with 1 Axes>"
      ]
     },
     "metadata": {
      "needs_background": "light"
     },
     "output_type": "display_data"
    },
    {
     "data": {
      "image/png": "[encoded data removed]",
      "text/plain": [
       "<Figure size 432x288 with 1 Axes>"
      ]
     },
     "metadata": {
      "needs_background": "light"
     },
     "output_type": "display_data"
    },
    {
     "data": {
      "image/png": "[encoded data removed]",
      "text/plain": [
       "<Figure size 432x288 with 1 Axes>"
      ]
     },
     "metadata": {
      "needs_background": "light"
     },
     "output_type": "display_data"
    }
   ],
   "source": [
    "for i, sublist in enumerate(pred_list):\n",
    "    fig, ax = plt.subplots()\n",
    "\n",
    "    preds = ['CRBD', 'Bisse', 'DDD', 'PLD']\n",
    "    counts = sublist\n",
    "    bar_labels = ['red', 'blue', 'red', 'orange']\n",
    "    bar_colors = ['tab:red', 'tab:blue', 'tab:red', 'tab:orange']\n",
    "\n",
    "    ax.bar(preds, counts, color=bar_colors)\n",
    "\n",
    "    ax.set_ylabel('counts')\n",
    "    ax.set_title('Prediction')\n",
    "\n",
    "    plt.show()\n",
    "\n"
   ]
  }
 ],
 "metadata": {
  "interpreter": {
   "hash": "138d5174590f664ca777ea0c6a2c1e1765b79912a6535a48b658f2d2e9fc3576"
  },
  "kernelspec": {
   "display_name": "Python 3.8.12 64-bit ('pytorch': conda)",
   "language": "python",
   "name": "python3"
  },
  "language_info": {
   "codemirror_mode": {
    "name": "ipython",
    "version": 3
   },
   "file_extension": ".py",
   "mimetype": "text/x-python",
   "name": "python",
   "nbconvert_exporter": "python",
   "pygments_lexer": "ipython3",
   "version": "3.10.4"
  },
  "orig_nbformat": 4
 },
 "nbformat": 4,
 "nbformat_minor": 2
}
