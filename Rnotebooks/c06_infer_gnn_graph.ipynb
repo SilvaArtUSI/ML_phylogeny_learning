{
 "cells": [
  {
   "attachments": {},
   "cell_type": "markdown",
   "metadata": {},
   "source": [
    "## Importing libraries"
   ]
  },
  {
   "cell_type": "code",
   "execution_count": 1,
   "metadata": {},
   "outputs": [],
   "source": [
    "import torch\n",
    "from torch_geometric.data import Data\n",
    "from torch_geometric.data import InMemoryDataset\n",
    "from torch_geometric.loader import DataLoader\n",
    "import torch.nn.functional as F\n",
    "from torch_geometric.nn import GraphConv, GCNConv, SAGEConv # Graph Neural Network \n",
    "from torch_geometric.nn import global_mean_pool \n",
    "import rpy2.robjects as robjects # load R object \n",
    "from rpy2.robjects import pandas2ri # load R object \n",
    "from tqdm import tqdm # print progress bar \n",
    "import pickle # save object \n",
    "import matplotlib.pyplot as plt\n",
    "import numpy as np\n",
    "import random as rd \n",
    "import pandas as pd"
   ]
  },
  {
   "cell_type": "code",
   "execution_count": 10,
   "metadata": {},
   "outputs": [],
   "source": [
    "import os\n",
    "\n",
    "current_directory = os.getcwd()\n",
    "#print(\"Current working directory:\", current_directory)\n",
    "\n",
    "\n",
    "os.chdir( \"/Users/oasc/Documents/Thesis/ML_phylogeny_learning\")\n"
   ]
  },
  {
   "attachments": {},
   "cell_type": "markdown",
   "metadata": {},
   "source": [
    "Load trees and corresponding target parameters and convert them to pandas data.frame"
   ]
  },
  {
   "cell_type": "code",
   "execution_count": 12,
   "metadata": {},
   "outputs": [],
   "source": [
    "pandas2ri.activate()\n",
    "\n",
    "#fname_graph = \"data/phylogeny-DDD-nt-1e+05-la0-0.5-1.5-mu-0.05-0.5-k-10-20-age-15-ddmod-1-graph.rds\"\n",
    "#fname_param = \"data/true-param-DDD-nt-1e+05-la0-0.5-1.5-mu-0.05-0.5-k-10-20-age-15-ddmod-1.rds\"\n",
    "\n",
    "fname_graph = \"data_clas/phylogeny_re-all-graph.rds\"\n",
    "fname_param = \"data_clas/phylo-true-clas-all2.rds\"\n",
    "\n",
    "readRDS = robjects.r['readRDS']\n",
    "df_graph = readRDS(fname_graph)\n",
    "df_graph = pandas2ri.rpy2py(df_graph)\n",
    "df_param = readRDS(fname_param)\n",
    "df_param = pandas2ri.rpy2py(df_param)\n",
    "\n",
    "\n",
    "#df_param[2] = df_param[2]/100\n",
    "#df_param[3] = df_param[3]/100\n",
    "\n",
    "#removing crown age from predictions\n",
    "#df_param = df_param[0:3]\n"
   ]
  },
  {
   "attachments": {},
   "cell_type": "markdown",
   "metadata": {},
   "source": [
    "# Simulating Indices"
   ]
  },
  {
   "cell_type": "code",
   "execution_count": 13,
   "metadata": {},
   "outputs": [],
   "source": [
    "import random\n",
    "\n",
    "preselected_sets = False\n",
    "subset_size = 40000 # Specify the size of the subset\n",
    "file_of_index = \"data/10_3_indices_set_-DDD-Totalset-10000-SubSiz-10000-.rds\" # to use the same as R\n",
    "\n",
    "if preselected_sets == True:\n",
    "    ind = readRDS(file_of_index) \n",
    "    ind = pandas2ri.rpy2py(ind)\n",
    "\n",
    "    train, valid, test = ind\n",
    "    train_ind, valid_ind, test_ind = list(train), list(valid), list(test)\n",
    "    #print(train_ind[1])\n",
    "    train_ind, valid_ind, test_ind = [i-1 for i in train_ind], [i-1 for i in valid_ind], [i-1 for i in test_ind]\n",
    "    #print(train_ind[1])\n",
    "\n",
    "else:\n",
    "    #total_data_points = len(df_graph)\n",
    "    total_data_points = 40000\n",
    "    subset_size = 40000-1  # Specify the size of the subset\n",
    "\n",
    "    n_train = int(subset_size * 0.9)\n",
    "    n_valid = int(subset_size * 0.05)\n",
    "    n_test = subset_size - n_train - n_valid\n",
    "    batch_size = min(int(subset_size * 0.01), 10)\n",
    "\n",
    "    # Pick the phylogenies randomly.\n",
    "    #true[2] = true[2] / 100\n",
    "    #true[3] = true[3] / 100\n",
    "    #ds = convert_encode_to_dataset(cblv, true)\n",
    "\n",
    "    # Pick the random subset of data points.\n",
    "    subset_indices = random.sample(range(1, total_data_points), subset_size)\n",
    "\n",
    "    # Split the subset into train, validation, and test indices.\n",
    "    train_ind = subset_indices[:n_train]\n",
    "    valid_ind = subset_indices[n_train:(n_train + n_valid)]\n",
    "    test_ind = subset_indices[(n_train + n_valid):subset_size]"
   ]
  },
  {
   "attachments": {},
   "cell_type": "markdown",
   "metadata": {},
   "source": [
    "Checking the total number of trees of the dataset (n_trees) and the number of target parameters for each tree (n_param)"
   ]
  },
  {
   "cell_type": "code",
   "execution_count": 14,
   "metadata": {},
   "outputs": [],
   "source": [
    "n_param = len(df_param)\n",
    "n_trees = len(df_graph)"
   ]
  },
  {
   "cell_type": "code",
   "execution_count": 15,
   "metadata": {},
   "outputs": [],
   "source": [
    "def convert_df_to_tensor(df_node, df_edge, params):\n",
    "\n",
    "    \"\"\"\n",
    "    Convert the data frames containing node and edge information \n",
    "    to a torch tensor that can be used to feed neural \n",
    "    \"\"\"\n",
    "\n",
    "    n_node, n_edge = df_node.shape[0], df_edge.shape[0]\n",
    "    #n_node, n_edge = int(robjects.r(\"nrow\")(df_node)[0]), int(robjects.r(\"nrow\")(df_edge)[0])\n",
    "\n",
    "    #pandas_df_node = pd.DataFrame(df_node)\n",
    "    #pandas_df_edge = pandas2ri.ri2py_dataframe(df_edge)\n",
    "\n",
    "    l1, l2 = [], []\n",
    "    \n",
    "    for i in range(n_edge):\n",
    "        #print(type(pandas_df_node))\n",
    "        edge = df_edge.iloc[i]\n",
    "        u, v = edge[0]-1, edge[1]-1\n",
    "        l1 = l1 + [u,v]\n",
    "        l2 = l2 + [v,u]\n",
    "\n",
    "    edge_index = torch.tensor([l1,l2], dtype=torch.long)\n",
    "\n",
    "    x = []\n",
    "\n",
    "    for i in range(n_node):\n",
    "        node_attr = list(df_node.iloc[i])\n",
    "        x.append(node_attr)\n",
    "\n",
    "    x = torch.tensor(x, dtype = torch.float)\n",
    "\n",
    "    y = torch.tensor(params, dtype = torch.float)\n",
    "\n",
    "    data = Data(x = x, edge_index = edge_index, y = y)\n",
    "\n",
    "    return(data)"
   ]
  },
  {
   "attachments": {},
   "cell_type": "markdown",
   "metadata": {},
   "source": [
    "# Preparing data for training"
   ]
  },
  {
   "cell_type": "code",
   "execution_count": 16,
   "metadata": {},
   "outputs": [
    {
     "name": "stderr",
     "output_type": "stream",
     "text": [
      "  0%|          | 0/40000 [00:00<?, ?it/s]"
     ]
    },
    {
     "name": "stderr",
     "output_type": "stream",
     "text": [
      "100%|██████████| 40000/40000 [43:44<00:00, 15.24it/s]  \n"
     ]
    }
   ],
   "source": [
    "batch_size_max = 64\n",
    "data_list  = []\n",
    "\n",
    "for n in tqdm(range(40000)):\n",
    "    df_node, df_edge = df_graph[n][0], df_graph[n][1]\n",
    "    params = [df_param[i][n] for i in range(n_param)]\n",
    "    data = convert_df_to_tensor( pandas2ri.rpy2py(df_node), pandas2ri.rpy2py(df_edge), params)\n",
    "    data_list.append(data)\n",
    "\n",
    "#dataloader = DataLoader(data_list, batch_size=batch_size_max)"
   ]
  },
  {
   "attachments": {},
   "cell_type": "markdown",
   "metadata": {},
   "source": [
    "Save or load dataset"
   ]
  },
  {
   "cell_type": "code",
   "execution_count": 17,
   "metadata": {},
   "outputs": [
    {
     "data": {
      "text/plain": [
       "'data_clas/phylo-true-clas'"
      ]
     },
     "execution_count": 17,
     "metadata": {},
     "output_type": "execute_result"
    }
   ],
   "source": [
    "fname_param[:-9]"
   ]
  },
  {
   "cell_type": "code",
   "execution_count": 18,
   "metadata": {},
   "outputs": [
    {
     "name": "stdout",
     "output_type": "stream",
     "text": [
      "Save\n"
     ]
    }
   ],
   "source": [
    "save = True\n",
    "\n",
    "fname = fname_param[:-9] + \"geomtensor\" + \".obj\" # file name \n",
    "if (save):\n",
    "    print(\"Save\")\n",
    "    file = open(fname, \"wb\") # file handler \n",
    "    pickle.dump(data_list, file) # save data_list\n",
    "\n",
    "else:\n",
    "    print(\"Load\")\n",
    "    file = open(fname, \"rb\")\n",
    "    data_list = pickle.load(file) "
   ]
  },
  {
   "cell_type": "code",
   "execution_count": 5,
   "metadata": {},
   "outputs": [
    {
     "name": "stdout",
     "output_type": "stream",
     "text": [
      "Load\n"
     ]
    },
    {
     "ename": "NameError",
     "evalue": "name 'fname' is not defined",
     "output_type": "error",
     "traceback": [
      "\u001b[0;31m---------------------------------------------------------------------------\u001b[0m",
      "\u001b[0;31mNameError\u001b[0m                                 Traceback (most recent call last)",
      "\u001b[1;32m/Users/oasc/Documents/Thesis/DDD_100k/06_DDD_infer_gnn_graph.ipynb Cell 15\u001b[0m in \u001b[0;36m<cell line: 2>\u001b[0;34m()\u001b[0m\n\u001b[1;32m      <a href='vscode-notebook-cell:/Users/oasc/Documents/Thesis/DDD_100k/06_DDD_infer_gnn_graph.ipynb#X20sZmlsZQ%3D%3D?line=0'>1</a>\u001b[0m \u001b[39mprint\u001b[39m(\u001b[39m\"\u001b[39m\u001b[39mLoad\u001b[39m\u001b[39m\"\u001b[39m)\n\u001b[0;32m----> <a href='vscode-notebook-cell:/Users/oasc/Documents/Thesis/DDD_100k/06_DDD_infer_gnn_graph.ipynb#X20sZmlsZQ%3D%3D?line=1'>2</a>\u001b[0m file \u001b[39m=\u001b[39m \u001b[39mopen\u001b[39m(fname, \u001b[39m\"\u001b[39m\u001b[39mrb\u001b[39m\u001b[39m\"\u001b[39m)\n\u001b[1;32m      <a href='vscode-notebook-cell:/Users/oasc/Documents/Thesis/DDD_100k/06_DDD_infer_gnn_graph.ipynb#X20sZmlsZQ%3D%3D?line=2'>3</a>\u001b[0m data_list \u001b[39m=\u001b[39m pickle\u001b[39m.\u001b[39mload(file)\n",
      "\u001b[0;31mNameError\u001b[0m: name 'fname' is not defined"
     ]
    }
   ],
   "source": [
    "print(\"Load\")\n",
    "file = open(fname, \"rb\")\n",
    "data_list = pickle.load(file) "
   ]
  },
  {
   "attachments": {},
   "cell_type": "markdown",
   "metadata": {},
   "source": [
    "Split dataset into train, valid and test set."
   ]
  },
  {
   "cell_type": "code",
   "execution_count": 263,
   "metadata": {},
   "outputs": [
    {
     "name": "stdout",
     "output_type": "stream",
     "text": [
      "tensor([0., 1., 0., 0.])\n"
     ]
    }
   ],
   "source": [
    "print(data_list[2999].y)"
   ]
  },
  {
   "cell_type": "code",
   "execution_count": 19,
   "metadata": {},
   "outputs": [],
   "source": [
    "#device = \"cuda:2\" # GPU to use \n",
    "device=\"cpu\"\n",
    "batch_size_max = 32\n",
    "\n",
    "\n",
    "train_data = [data_list[i].to(device=device) for i in train_ind]\n",
    "valid_data = [data_list[i].to(device=device) for i in valid_ind]\n",
    "test_data  = [data_list[i].to(device=device) for i in test_ind]\n",
    "\n",
    "train_dl = DataLoader(train_data, batch_size = batch_size_max, shuffle = True)\n",
    "valid_dl = DataLoader(valid_data, batch_size = batch_size_max, shuffle = True)\n",
    "test_dl  = DataLoader(test_data , batch_size = 1)"
   ]
  },
  {
   "attachments": {},
   "cell_type": "markdown",
   "metadata": {},
   "source": [
    "Create the GNN structure"
   ]
  },
  {
   "cell_type": "code",
   "execution_count": 20,
   "metadata": {},
   "outputs": [],
   "source": [
    "class GCN(torch.nn.Module):\n",
    "    def __init__(self, n_in, n_hidden, n_out):\n",
    "        super().__init__()\n",
    "        self.conv1 = GCNConv(n_in, n_hidden)\n",
    "        self.conv2 = GCNConv(n_hidden, n_hidden)\n",
    "        self.conv3 = GCNConv(n_hidden, n_hidden)\n",
    "        self.conv4 = GCNConv(n_hidden, n_hidden)\n",
    "        self.conv5 = GCNConv(n_hidden, 2*n_hidden)\n",
    "        self.lin1  = torch.nn.Linear(2*n_hidden, n_hidden)\n",
    "        self.lin2  = torch.nn.Linear(n_hidden, n_out)\n",
    "\n",
    "    def forward(self, data):\n",
    "        x, edge_index, batch = data.x, data.edge_index, data.batch\n",
    "        x = self.conv1(x, edge_index)\n",
    "        x = F.relu(x)\n",
    "        x = F.dropout(x, p = 0.5, training=self.training)\n",
    "        x = self.conv2(x, edge_index)\n",
    "        x = F.relu(x)\n",
    "        x = F.dropout(x, p = 0.5, training=self.training)\n",
    "        x = self.conv3(x, edge_index)\n",
    "        x = F.relu(x)\n",
    "        x = F.dropout(x, p = 0.5, training=self.training)\n",
    "        x = self.conv4(x, edge_index)\n",
    "        x = F.relu(x)\n",
    "        x = F.dropout(x, p = 0.5, training=self.training)\n",
    "        x = self.conv5(x, edge_index)\n",
    "        x = F.relu(x)\n",
    "        x = F.dropout(x, p = 0.5, training=self.training)\n",
    "        x = global_mean_pool(x, batch)\n",
    "        x = self.lin1(x)\n",
    "        x = self.lin2(x)\n",
    "        return x"
   ]
  },
  {
   "cell_type": "code",
   "execution_count": 21,
   "metadata": {},
   "outputs": [],
   "source": [
    "def train(model, batch):\n",
    "    optimizer.zero_grad()\n",
    "    out = model(batch)\n",
    "    batch_size = int(max(data.batch) + 1) # number of trees in the batch \n",
    "    loss = F.cross_entropy(out, data.y.reshape([batch_size, n_out])) # compute loss \n",
    "    loss.backward() # backward propagation \n",
    "    optimizer.step()\n",
    "    acc=torch.sum(torch.argmax(data.y.reshape([batch_size, n_out]),axis=1)==torch.argmax(out,dim=1)).item()\n",
    "    return(loss,acc/batch_size)\n",
    "\n",
    "def valid(model, batch):\n",
    "    out = model(batch)\n",
    "    batch_size = int(max(data.batch) + 1) # number of trees in the batch \n",
    "    loss = F.cross_entropy(out, data.y.reshape([batch_size, n_out])) # compute loss\n",
    "    acc=torch.sum(torch.argmax(data.y.reshape([batch_size, n_out]),axis=1)==torch.argmax(out,dim=1)).item()\n",
    "    #total = out.size(dim=0)\n",
    "    return(loss,acc/batch_size)\n"
   ]
  },
  {
   "cell_type": "code",
   "execution_count": 245,
   "metadata": {},
   "outputs": [
    {
     "data": {
      "text/plain": [
       "6"
      ]
     },
     "execution_count": 245,
     "metadata": {},
     "output_type": "execute_result"
    }
   ],
   "source": [
    "data_list[1000].num_node_features\n"
   ]
  },
  {
   "cell_type": "code",
   "execution_count": 25,
   "metadata": {},
   "outputs": [],
   "source": [
    "# Setting up the training \n",
    "n_in = data_list[0].num_node_features\n",
    "n_out = len(data_list[0].y)\n",
    "n_hidden = 100\n",
    "n_epochs = 100\n",
    "model = GCN(n_in, n_hidden, n_out).to(device=device)\n",
    "optimizer = torch.optim.Adam(model.parameters(), lr=0.01, weight_decay=5e-4)\n",
    "loss_fn = F.cross_entropy\n",
    "\n",
    "file_path = 'data_clas/models/GNN_phylo_class.pt'\n",
    "\n",
    "# Save the model\n"
   ]
  },
  {
   "cell_type": "code",
   "execution_count": 28,
   "metadata": {},
   "outputs": [
    {
     "name": "stderr",
     "output_type": "stream",
     "text": [
      "100%|██████████| 1125/1125 [13:43<00:00,  1.37it/s]\n"
     ]
    },
    {
     "name": "stdout",
     "output_type": "stream",
     "text": [
      "Epoch 0 - Train Loss : 6.8932 Train Acc : 0.4008\n"
     ]
    },
    {
     "name": "stderr",
     "output_type": "stream",
     "text": [
      "100%|██████████| 63/63 [00:24<00:00,  2.62it/s]\n"
     ]
    },
    {
     "name": "stdout",
     "output_type": "stream",
     "text": [
      "Epoch 0 - Valid Loss : 6.8880 Train Acc : 0.4233\n"
     ]
    },
    {
     "name": "stderr",
     "output_type": "stream",
     "text": [
      "100%|██████████| 1125/1125 [15:25<00:00,  1.22it/s]\n"
     ]
    },
    {
     "name": "stdout",
     "output_type": "stream",
     "text": [
      "Epoch 1 - Train Loss : 6.8883 Train Acc : 0.4076\n"
     ]
    },
    {
     "name": "stderr",
     "output_type": "stream",
     "text": [
      "100%|██████████| 63/63 [00:25<00:00,  2.47it/s]\n"
     ]
    },
    {
     "name": "stdout",
     "output_type": "stream",
     "text": [
      "Epoch 1 - Valid Loss : 6.8935 Train Acc : 0.4121\n"
     ]
    },
    {
     "name": "stderr",
     "output_type": "stream",
     "text": [
      "100%|██████████| 1125/1125 [15:53<00:00,  1.18it/s]\n"
     ]
    },
    {
     "name": "stdout",
     "output_type": "stream",
     "text": [
      "Epoch 2 - Train Loss : 6.8852 Train Acc : 0.4209\n"
     ]
    },
    {
     "name": "stderr",
     "output_type": "stream",
     "text": [
      "100%|██████████| 63/63 [00:27<00:00,  2.30it/s]\n"
     ]
    },
    {
     "name": "stdout",
     "output_type": "stream",
     "text": [
      "Epoch 2 - Valid Loss : 6.8922 Train Acc : 0.4127\n"
     ]
    },
    {
     "name": "stderr",
     "output_type": "stream",
     "text": [
      "100%|██████████| 1125/1125 [16:06<00:00,  1.16it/s]\n"
     ]
    },
    {
     "name": "stdout",
     "output_type": "stream",
     "text": [
      "Epoch 3 - Train Loss : 6.8851 Train Acc : 0.4229\n"
     ]
    },
    {
     "name": "stderr",
     "output_type": "stream",
     "text": [
      "100%|██████████| 63/63 [00:27<00:00,  2.31it/s]\n"
     ]
    },
    {
     "name": "stdout",
     "output_type": "stream",
     "text": [
      "Epoch 3 - Valid Loss : 6.8827 Train Acc : 0.4329\n"
     ]
    },
    {
     "name": "stderr",
     "output_type": "stream",
     "text": [
      "100%|██████████| 1125/1125 [16:20<00:00,  1.15it/s]\n"
     ]
    },
    {
     "name": "stdout",
     "output_type": "stream",
     "text": [
      "Epoch 4 - Train Loss : 6.8852 Train Acc : 0.4199\n"
     ]
    },
    {
     "name": "stderr",
     "output_type": "stream",
     "text": [
      "100%|██████████| 63/63 [00:25<00:00,  2.52it/s]\n"
     ]
    },
    {
     "name": "stdout",
     "output_type": "stream",
     "text": [
      "Epoch 4 - Valid Loss : 6.8817 Train Acc : 0.4087\n"
     ]
    },
    {
     "name": "stderr",
     "output_type": "stream",
     "text": [
      "100%|██████████| 1125/1125 [15:58<00:00,  1.17it/s]\n"
     ]
    },
    {
     "name": "stdout",
     "output_type": "stream",
     "text": [
      "Epoch 5 - Train Loss : 6.8854 Train Acc : 0.4198\n"
     ]
    },
    {
     "name": "stderr",
     "output_type": "stream",
     "text": [
      "100%|██████████| 63/63 [00:25<00:00,  2.51it/s]\n"
     ]
    },
    {
     "name": "stdout",
     "output_type": "stream",
     "text": [
      "Epoch 5 - Valid Loss : 6.8786 Train Acc : 0.4181\n"
     ]
    },
    {
     "name": "stderr",
     "output_type": "stream",
     "text": [
      "100%|██████████| 1125/1125 [15:43<00:00,  1.19it/s]\n"
     ]
    },
    {
     "name": "stdout",
     "output_type": "stream",
     "text": [
      "Epoch 6 - Train Loss : 6.8850 Train Acc : 0.4193\n"
     ]
    },
    {
     "name": "stderr",
     "output_type": "stream",
     "text": [
      "100%|██████████| 63/63 [00:23<00:00,  2.63it/s]\n"
     ]
    },
    {
     "name": "stdout",
     "output_type": "stream",
     "text": [
      "Epoch 6 - Valid Loss : 6.8791 Train Acc : 0.4211\n"
     ]
    },
    {
     "name": "stderr",
     "output_type": "stream",
     "text": [
      "100%|██████████| 1125/1125 [15:18<00:00,  1.22it/s]\n"
     ]
    },
    {
     "name": "stdout",
     "output_type": "stream",
     "text": [
      "Epoch 7 - Train Loss : 6.8838 Train Acc : 0.4267\n"
     ]
    },
    {
     "name": "stderr",
     "output_type": "stream",
     "text": [
      "100%|██████████| 63/63 [00:25<00:00,  2.51it/s]\n"
     ]
    },
    {
     "name": "stdout",
     "output_type": "stream",
     "text": [
      "Epoch 7 - Valid Loss : 6.8843 Train Acc : 0.4314\n"
     ]
    },
    {
     "name": "stderr",
     "output_type": "stream",
     "text": [
      "100%|██████████| 1125/1125 [14:31<00:00,  1.29it/s]\n"
     ]
    },
    {
     "name": "stdout",
     "output_type": "stream",
     "text": [
      "Epoch 8 - Train Loss : 6.8842 Train Acc : 0.4252\n"
     ]
    },
    {
     "name": "stderr",
     "output_type": "stream",
     "text": [
      "100%|██████████| 63/63 [00:24<00:00,  2.62it/s]\n"
     ]
    },
    {
     "name": "stdout",
     "output_type": "stream",
     "text": [
      "Epoch 8 - Valid Loss : 6.8904 Train Acc : 0.4206\n"
     ]
    },
    {
     "name": "stderr",
     "output_type": "stream",
     "text": [
      "100%|██████████| 1125/1125 [14:17<00:00,  1.31it/s]\n"
     ]
    },
    {
     "name": "stdout",
     "output_type": "stream",
     "text": [
      "Epoch 9 - Train Loss : 6.8840 Train Acc : 0.4266\n"
     ]
    },
    {
     "name": "stderr",
     "output_type": "stream",
     "text": [
      "100%|██████████| 63/63 [00:25<00:00,  2.47it/s]\n"
     ]
    },
    {
     "name": "stdout",
     "output_type": "stream",
     "text": [
      "Epoch 9 - Valid Loss : 6.8913 Train Acc : 0.4161\n"
     ]
    },
    {
     "name": "stderr",
     "output_type": "stream",
     "text": [
      "100%|██████████| 1125/1125 [14:16<00:00,  1.31it/s]\n"
     ]
    },
    {
     "name": "stdout",
     "output_type": "stream",
     "text": [
      "Epoch 10 - Train Loss : 6.8842 Train Acc : 0.4237\n"
     ]
    },
    {
     "name": "stderr",
     "output_type": "stream",
     "text": [
      "100%|██████████| 63/63 [00:23<00:00,  2.68it/s]\n"
     ]
    },
    {
     "name": "stdout",
     "output_type": "stream",
     "text": [
      "Epoch 10 - Valid Loss : 6.8811 Train Acc : 0.4177\n"
     ]
    },
    {
     "name": "stderr",
     "output_type": "stream",
     "text": [
      "100%|██████████| 1125/1125 [14:25<00:00,  1.30it/s]\n"
     ]
    },
    {
     "name": "stdout",
     "output_type": "stream",
     "text": [
      "Epoch 11 - Train Loss : 6.8845 Train Acc : 0.4212\n"
     ]
    },
    {
     "name": "stderr",
     "output_type": "stream",
     "text": [
      "100%|██████████| 63/63 [00:23<00:00,  2.65it/s]\n"
     ]
    },
    {
     "name": "stdout",
     "output_type": "stream",
     "text": [
      "Epoch 11 - Valid Loss : 6.8793 Train Acc : 0.4239\n"
     ]
    },
    {
     "name": "stderr",
     "output_type": "stream",
     "text": [
      "100%|██████████| 1125/1125 [14:12<00:00,  1.32it/s]\n"
     ]
    },
    {
     "name": "stdout",
     "output_type": "stream",
     "text": [
      "Epoch 12 - Train Loss : 6.8848 Train Acc : 0.4206\n"
     ]
    },
    {
     "name": "stderr",
     "output_type": "stream",
     "text": [
      "100%|██████████| 63/63 [00:23<00:00,  2.64it/s]\n"
     ]
    },
    {
     "name": "stdout",
     "output_type": "stream",
     "text": [
      "Epoch 12 - Valid Loss : 6.8835 Train Acc : 0.4298\n"
     ]
    },
    {
     "name": "stderr",
     "output_type": "stream",
     "text": [
      "100%|██████████| 1125/1125 [13:58<00:00,  1.34it/s]\n"
     ]
    },
    {
     "name": "stdout",
     "output_type": "stream",
     "text": [
      "Epoch 13 - Train Loss : 6.8844 Train Acc : 0.4215\n"
     ]
    },
    {
     "name": "stderr",
     "output_type": "stream",
     "text": [
      "100%|██████████| 63/63 [00:23<00:00,  2.71it/s]\n"
     ]
    },
    {
     "name": "stdout",
     "output_type": "stream",
     "text": [
      "Epoch 13 - Valid Loss : 6.8770 Train Acc : 0.4393\n"
     ]
    },
    {
     "name": "stderr",
     "output_type": "stream",
     "text": [
      "100%|██████████| 1125/1125 [14:08<00:00,  1.33it/s]\n"
     ]
    },
    {
     "name": "stdout",
     "output_type": "stream",
     "text": [
      "Epoch 14 - Train Loss : 6.8841 Train Acc : 0.4250\n"
     ]
    },
    {
     "name": "stderr",
     "output_type": "stream",
     "text": [
      "100%|██████████| 63/63 [00:24<00:00,  2.60it/s]\n"
     ]
    },
    {
     "name": "stdout",
     "output_type": "stream",
     "text": [
      "Epoch 14 - Valid Loss : 6.9125 Train Acc : 0.3803\n"
     ]
    },
    {
     "name": "stderr",
     "output_type": "stream",
     "text": [
      "100%|██████████| 1125/1125 [13:59<00:00,  1.34it/s]\n"
     ]
    },
    {
     "name": "stdout",
     "output_type": "stream",
     "text": [
      "Epoch 15 - Train Loss : 6.8851 Train Acc : 0.4214\n"
     ]
    },
    {
     "name": "stderr",
     "output_type": "stream",
     "text": [
      "100%|██████████| 63/63 [00:23<00:00,  2.67it/s]\n"
     ]
    },
    {
     "name": "stdout",
     "output_type": "stream",
     "text": [
      "Epoch 15 - Valid Loss : 6.8784 Train Acc : 0.4511\n"
     ]
    },
    {
     "name": "stderr",
     "output_type": "stream",
     "text": [
      "100%|██████████| 1125/1125 [13:55<00:00,  1.35it/s]\n"
     ]
    },
    {
     "name": "stdout",
     "output_type": "stream",
     "text": [
      "Epoch 16 - Train Loss : 6.8839 Train Acc : 0.4208\n"
     ]
    },
    {
     "name": "stderr",
     "output_type": "stream",
     "text": [
      "100%|██████████| 63/63 [00:23<00:00,  2.63it/s]\n"
     ]
    },
    {
     "name": "stdout",
     "output_type": "stream",
     "text": [
      "Epoch 16 - Valid Loss : 6.8931 Train Acc : 0.3952\n"
     ]
    },
    {
     "name": "stderr",
     "output_type": "stream",
     "text": [
      "100%|██████████| 1125/1125 [13:37<00:00,  1.38it/s]\n"
     ]
    },
    {
     "name": "stdout",
     "output_type": "stream",
     "text": [
      "Epoch 17 - Train Loss : 6.8855 Train Acc : 0.4241\n"
     ]
    },
    {
     "name": "stderr",
     "output_type": "stream",
     "text": [
      "100%|██████████| 63/63 [00:23<00:00,  2.73it/s]\n"
     ]
    },
    {
     "name": "stdout",
     "output_type": "stream",
     "text": [
      "Epoch 17 - Valid Loss : 6.8915 Train Acc : 0.4147\n"
     ]
    },
    {
     "name": "stderr",
     "output_type": "stream",
     "text": [
      "100%|██████████| 1125/1125 [13:50<00:00,  1.35it/s]\n"
     ]
    },
    {
     "name": "stdout",
     "output_type": "stream",
     "text": [
      "Epoch 18 - Train Loss : 6.8842 Train Acc : 0.4217\n"
     ]
    },
    {
     "name": "stderr",
     "output_type": "stream",
     "text": [
      "100%|██████████| 63/63 [00:26<00:00,  2.40it/s]\n"
     ]
    },
    {
     "name": "stdout",
     "output_type": "stream",
     "text": [
      "Epoch 18 - Valid Loss : 6.8898 Train Acc : 0.4022\n"
     ]
    },
    {
     "name": "stderr",
     "output_type": "stream",
     "text": [
      "100%|██████████| 1125/1125 [13:51<00:00,  1.35it/s]\n"
     ]
    },
    {
     "name": "stdout",
     "output_type": "stream",
     "text": [
      "Epoch 19 - Train Loss : 6.8843 Train Acc : 0.4237\n"
     ]
    },
    {
     "name": "stderr",
     "output_type": "stream",
     "text": [
      "100%|██████████| 63/63 [00:23<00:00,  2.73it/s]\n"
     ]
    },
    {
     "name": "stdout",
     "output_type": "stream",
     "text": [
      "Epoch 19 - Valid Loss : 6.8802 Train Acc : 0.4737\n"
     ]
    },
    {
     "name": "stderr",
     "output_type": "stream",
     "text": [
      "100%|██████████| 1125/1125 [13:44<00:00,  1.36it/s]\n"
     ]
    },
    {
     "name": "stdout",
     "output_type": "stream",
     "text": [
      "Epoch 20 - Train Loss : 6.8846 Train Acc : 0.4208\n"
     ]
    },
    {
     "name": "stderr",
     "output_type": "stream",
     "text": [
      "100%|██████████| 63/63 [00:23<00:00,  2.73it/s]\n"
     ]
    },
    {
     "name": "stdout",
     "output_type": "stream",
     "text": [
      "Epoch 20 - Valid Loss : 6.8778 Train Acc : 0.4439\n"
     ]
    },
    {
     "name": "stderr",
     "output_type": "stream",
     "text": [
      "100%|██████████| 1125/1125 [13:42<00:00,  1.37it/s]\n"
     ]
    },
    {
     "name": "stdout",
     "output_type": "stream",
     "text": [
      "Epoch 21 - Train Loss : 6.8837 Train Acc : 0.4238\n"
     ]
    },
    {
     "name": "stderr",
     "output_type": "stream",
     "text": [
      "100%|██████████| 63/63 [00:26<00:00,  2.38it/s]\n"
     ]
    },
    {
     "name": "stdout",
     "output_type": "stream",
     "text": [
      "Epoch 21 - Valid Loss : 6.8812 Train Acc : 0.4483\n"
     ]
    },
    {
     "name": "stderr",
     "output_type": "stream",
     "text": [
      "100%|██████████| 1125/1125 [13:48<00:00,  1.36it/s]\n"
     ]
    },
    {
     "name": "stdout",
     "output_type": "stream",
     "text": [
      "Epoch 22 - Train Loss : 6.8844 Train Acc : 0.4242\n"
     ]
    },
    {
     "name": "stderr",
     "output_type": "stream",
     "text": [
      "100%|██████████| 63/63 [00:23<00:00,  2.72it/s]\n"
     ]
    },
    {
     "name": "stdout",
     "output_type": "stream",
     "text": [
      "Epoch 22 - Valid Loss : 6.8766 Train Acc : 0.4434\n"
     ]
    },
    {
     "name": "stderr",
     "output_type": "stream",
     "text": [
      "100%|██████████| 1125/1125 [13:39<00:00,  1.37it/s]\n"
     ]
    },
    {
     "name": "stdout",
     "output_type": "stream",
     "text": [
      "Epoch 23 - Train Loss : 6.8840 Train Acc : 0.4230\n"
     ]
    },
    {
     "name": "stderr",
     "output_type": "stream",
     "text": [
      "100%|██████████| 63/63 [00:23<00:00,  2.71it/s]\n"
     ]
    },
    {
     "name": "stdout",
     "output_type": "stream",
     "text": [
      "Epoch 23 - Valid Loss : 6.8782 Train Acc : 0.4317\n"
     ]
    },
    {
     "name": "stderr",
     "output_type": "stream",
     "text": [
      "100%|██████████| 1125/1125 [13:44<00:00,  1.36it/s]\n"
     ]
    },
    {
     "name": "stdout",
     "output_type": "stream",
     "text": [
      "Epoch 24 - Train Loss : 6.8837 Train Acc : 0.4223\n"
     ]
    },
    {
     "name": "stderr",
     "output_type": "stream",
     "text": [
      "100%|██████████| 63/63 [00:23<00:00,  2.64it/s]\n"
     ]
    },
    {
     "name": "stdout",
     "output_type": "stream",
     "text": [
      "Epoch 24 - Valid Loss : 6.8806 Train Acc : 0.4331\n"
     ]
    },
    {
     "name": "stderr",
     "output_type": "stream",
     "text": [
      "100%|██████████| 1125/1125 [13:40<00:00,  1.37it/s]\n"
     ]
    },
    {
     "name": "stdout",
     "output_type": "stream",
     "text": [
      "Epoch 25 - Train Loss : 6.8834 Train Acc : 0.4250\n"
     ]
    },
    {
     "name": "stderr",
     "output_type": "stream",
     "text": [
      "100%|██████████| 63/63 [00:22<00:00,  2.76it/s]\n"
     ]
    },
    {
     "name": "stdout",
     "output_type": "stream",
     "text": [
      "Epoch 25 - Valid Loss : 6.8857 Train Acc : 0.4244\n"
     ]
    },
    {
     "name": "stderr",
     "output_type": "stream",
     "text": [
      "100%|██████████| 1125/1125 [13:37<00:00,  1.38it/s]\n"
     ]
    },
    {
     "name": "stdout",
     "output_type": "stream",
     "text": [
      "Epoch 26 - Train Loss : 6.8846 Train Acc : 0.4231\n"
     ]
    },
    {
     "name": "stderr",
     "output_type": "stream",
     "text": [
      "100%|██████████| 63/63 [00:23<00:00,  2.73it/s]\n"
     ]
    },
    {
     "name": "stdout",
     "output_type": "stream",
     "text": [
      "Epoch 26 - Valid Loss : 6.9097 Train Acc : 0.3505\n"
     ]
    },
    {
     "name": "stderr",
     "output_type": "stream",
     "text": [
      "100%|██████████| 1125/1125 [13:38<00:00,  1.38it/s]\n"
     ]
    },
    {
     "name": "stdout",
     "output_type": "stream",
     "text": [
      "Epoch 27 - Train Loss : 6.8844 Train Acc : 0.4233\n"
     ]
    },
    {
     "name": "stderr",
     "output_type": "stream",
     "text": [
      "100%|██████████| 63/63 [00:23<00:00,  2.68it/s]\n"
     ]
    },
    {
     "name": "stdout",
     "output_type": "stream",
     "text": [
      "Epoch 27 - Valid Loss : 6.8771 Train Acc : 0.4480\n"
     ]
    },
    {
     "name": "stderr",
     "output_type": "stream",
     "text": [
      "100%|██████████| 1125/1125 [13:45<00:00,  1.36it/s]\n"
     ]
    },
    {
     "name": "stdout",
     "output_type": "stream",
     "text": [
      "Epoch 28 - Train Loss : 6.8850 Train Acc : 0.4226\n"
     ]
    },
    {
     "name": "stderr",
     "output_type": "stream",
     "text": [
      "100%|██████████| 63/63 [00:23<00:00,  2.73it/s]\n"
     ]
    },
    {
     "name": "stdout",
     "output_type": "stream",
     "text": [
      "Epoch 28 - Valid Loss : 6.8869 Train Acc : 0.4275\n"
     ]
    },
    {
     "name": "stderr",
     "output_type": "stream",
     "text": [
      "100%|██████████| 1125/1125 [13:50<00:00,  1.35it/s]\n"
     ]
    },
    {
     "name": "stdout",
     "output_type": "stream",
     "text": [
      "Epoch 29 - Train Loss : 6.8835 Train Acc : 0.4248\n"
     ]
    },
    {
     "name": "stderr",
     "output_type": "stream",
     "text": [
      "100%|██████████| 63/63 [00:23<00:00,  2.72it/s]\n"
     ]
    },
    {
     "name": "stdout",
     "output_type": "stream",
     "text": [
      "Epoch 29 - Valid Loss : 6.8774 Train Acc : 0.4354\n"
     ]
    },
    {
     "name": "stderr",
     "output_type": "stream",
     "text": [
      "100%|██████████| 1125/1125 [13:44<00:00,  1.36it/s]\n"
     ]
    },
    {
     "name": "stdout",
     "output_type": "stream",
     "text": [
      "Epoch 30 - Train Loss : 6.8841 Train Acc : 0.4203\n"
     ]
    },
    {
     "name": "stderr",
     "output_type": "stream",
     "text": [
      "100%|██████████| 63/63 [00:23<00:00,  2.67it/s]\n"
     ]
    },
    {
     "name": "stdout",
     "output_type": "stream",
     "text": [
      "Epoch 30 - Valid Loss : 6.8889 Train Acc : 0.4319\n"
     ]
    },
    {
     "name": "stderr",
     "output_type": "stream",
     "text": [
      "100%|██████████| 1125/1125 [13:44<00:00,  1.36it/s]\n"
     ]
    },
    {
     "name": "stdout",
     "output_type": "stream",
     "text": [
      "Epoch 31 - Train Loss : 6.8839 Train Acc : 0.4223\n"
     ]
    },
    {
     "name": "stderr",
     "output_type": "stream",
     "text": [
      "100%|██████████| 63/63 [00:23<00:00,  2.74it/s]\n"
     ]
    },
    {
     "name": "stdout",
     "output_type": "stream",
     "text": [
      "Epoch 31 - Valid Loss : 6.8805 Train Acc : 0.4106\n"
     ]
    },
    {
     "name": "stderr",
     "output_type": "stream",
     "text": [
      "100%|██████████| 1125/1125 [13:44<00:00,  1.36it/s]\n"
     ]
    },
    {
     "name": "stdout",
     "output_type": "stream",
     "text": [
      "Epoch 32 - Train Loss : 6.8847 Train Acc : 0.4235\n"
     ]
    },
    {
     "name": "stderr",
     "output_type": "stream",
     "text": [
      "100%|██████████| 63/63 [00:23<00:00,  2.70it/s]"
     ]
    },
    {
     "name": "stdout",
     "output_type": "stream",
     "text": [
      "Epoch 32 - Valid Loss : 6.8776 Train Acc : 0.4351\n",
      "Early stopping at epoch 32\n",
      "Best epoch: 22\n"
     ]
    },
    {
     "name": "stderr",
     "output_type": "stream",
     "text": [
      "\n"
     ]
    }
   ],
   "source": [
    "\n",
    "valid_list = []\n",
    "train_list = []\n",
    "\n",
    "train_acc_list = []\n",
    "valid_acc_list = []\n",
    "\n",
    "\n",
    "patience = 10  # Number of epochs to wait for improvement\n",
    "best_loss = float('inf')\n",
    "best_epoch = 0\n",
    "\n",
    "early_stop = False\n",
    "counter = 0\n",
    "\n",
    "\n",
    "\n",
    "# Training loop \n",
    "\n",
    "for epoch in range(n_epochs):\n",
    "    if early_stop:\n",
    "        break\n",
    "\n",
    "    # Training\n",
    "    model.train()\n",
    "    train_loss = []\n",
    "    train_acc = []\n",
    "    for data in tqdm(train_dl):\n",
    "        loss , acc = train(model, data)  # train model and get loss\n",
    "        loss = float(loss.to(device=\"cpu\"))\n",
    "        train_loss.append(loss)\n",
    "        train_acc.append(acc)\n",
    "    mean_loss = np.mean(train_loss)\n",
    "    mean_acc = np.mean(train_acc)\n",
    "\n",
    "    train_list.append(mean_loss)\n",
    "    train_acc_list.append(mean_acc)\n",
    "\n",
    "    print(\"Epoch %d - Train Loss : %.4f Train Acc : %.4f\" % (epoch, float(mean_loss),float(mean_acc)))  # print progression\n",
    "\n",
    "    # Validation\n",
    "    model.eval()\n",
    "    valid_loss = []\n",
    "    valid_acc = []\n",
    "    for data in tqdm(valid_dl):\n",
    "        loss,acc = valid(model, data)  # train model and get loss\n",
    "        loss = float(loss.to(device=\"cpu\"))\n",
    "        valid_loss.append(loss)\n",
    "        valid_acc.append(acc)\n",
    "    mean_loss = np.mean(valid_loss)\n",
    "    mean_acc = np.mean(valid_acc)\n",
    "\n",
    "\n",
    "    valid_list.append(mean_loss)\n",
    "    valid_acc_list.append(mean_acc)\n",
    "    print(\"Epoch %d - Valid Loss : %.4f Train Acc : %.4f\" % (epoch, float(mean_loss),float(mean_acc)))  # print progression\n",
    "\n",
    "    # Check for early stopping\n",
    "    if mean_loss < best_loss:\n",
    "        best_loss = mean_loss\n",
    "        best_epoch = epoch\n",
    "        counter = 0\n",
    "        torch.save(model.state_dict(), file_path)\n",
    "    else:\n",
    "        counter += 1\n",
    "        if counter >= patience:\n",
    "            print(\"Early stopping at epoch %d\" % (epoch))\n",
    "            early_stop = True\n",
    "\n",
    "print(\"Best epoch:\", best_epoch)"
   ]
  },
  {
   "cell_type": "code",
   "execution_count": 29,
   "metadata": {},
   "outputs": [
    {
     "data": {
      "image/png": "[encoded data removed]",
      "text/plain": [
       "<Figure size 640x480 with 1 Axes>"
      ]
     },
     "metadata": {},
     "output_type": "display_data"
    },
    {
     "data": {
      "image/png": "[encoded data removed]",
      "text/plain": [
       "<Figure size 640x480 with 1 Axes>"
      ]
     },
     "metadata": {},
     "output_type": "display_data"
    }
   ],
   "source": [
    "# Plotting the training and validation loss\n",
    "epochs = range(len(train_list))\n",
    "\n",
    "plt.plot(epochs, train_list, label='Train Loss')\n",
    "plt.plot(epochs, valid_list, label='Valid Loss')\n",
    "plt.xlabel('Epochs')\n",
    "plt.ylabel('Loss')\n",
    "plt.title('Training and Validation Loss')\n",
    "plt.legend()\n",
    "plt.show()\n",
    "\n",
    "\n",
    "epochs = range(len(train_list))\n",
    "\n",
    "plt.plot(epochs, train_acc_list, label='Train Accuracy')\n",
    "plt.plot(epochs, valid_acc_list, label='Valid Accuracy')\n",
    "plt.xlabel('Epochs')\n",
    "plt.ylabel('Accuracy')\n",
    "plt.title('Training and Validation Accuracy')\n",
    "plt.legend()\n",
    "plt.show()"
   ]
  },
  {
   "cell_type": "code",
   "execution_count": 30,
   "metadata": {},
   "outputs": [],
   "source": [
    "# Specify the file path to save the model#\n",
    "#file_path = 'GNN_phylo_class.pt'\n",
    "\n",
    "# Save the model\n",
    "#torch.save(model.state_dict(), file_path)"
   ]
  },
  {
   "cell_type": "code",
   "execution_count": 18,
   "metadata": {},
   "outputs": [
    {
     "data": {
      "text/plain": [
       "<All keys matched successfully>"
      ]
     },
     "execution_count": 18,
     "metadata": {},
     "output_type": "execute_result"
    }
   ],
   "source": [
    "#model.load_state_dict(torch.load('GNN_phylo_class.pt'))"
   ]
  },
  {
   "cell_type": "code",
   "execution_count": 31,
   "metadata": {},
   "outputs": [],
   "source": [
    "#test_dl = DataLoader(data_list[:500], batch_size = 1)\n",
    "n_param = len(df_param)\n",
    "pred_list, true_list = [[0,0,0,0] for n in range(n_param)], [[] for n in range(n_param)]\n",
    "acc_sum = [0 ,0 ,0 ,0 ,0]\n",
    "total_sum = [0 ,0 ,0 ,0 ,0]\n",
    "\n",
    "\n",
    "\n",
    "model.eval()\n",
    "for data in test_dl:\n",
    "    out = model(data.to(device=device))\n",
    "    pred_params = torch.argmax(out,dim=1)[0]\n",
    "    true_params = torch.argmax(data.y,axis=0)\n",
    "\n",
    "    acc = torch.sum(torch.argmax(data.y,axis=0)==torch.argmax(out,dim=1)[0]).item()\n",
    "\n",
    "\n",
    "    pred_list[true_params][pred_params]+=1\n",
    "\n",
    "\n",
    "\n",
    "\n",
    "    if (true_params == 0):\n",
    "        acc_sum[true_params]    =   acc_sum[true_params] + acc\n",
    "        total_sum[true_params]  =   total_sum[true_params] + 1\n",
    "\n",
    "    elif (true_params == 1):\n",
    "        acc_sum[true_params]    =   acc_sum[true_params] + acc\n",
    "        total_sum[true_params]  =   total_sum[true_params] + 1\n",
    "    \n",
    "    elif (true_params == 2):\n",
    "        acc_sum[true_params]    =   acc_sum[true_params] + acc\n",
    "        total_sum[true_params]  =   total_sum[true_params] + 1\n",
    "    \n",
    "    elif (true_params == 3):\n",
    "        acc_sum[true_params]    =   acc_sum[true_params] + acc\n",
    "        total_sum[true_params]  =   total_sum[true_params] + 1\n",
    "\n",
    "acc_sum[4]    =   sum(acc_sum[:-1])\n",
    "total_sum[4]  =   sum(total_sum[:-1])\n",
    "\n",
    "\n",
    "\n"
   ]
  },
  {
   "cell_type": "code",
   "execution_count": 32,
   "metadata": {},
   "outputs": [
    {
     "name": "stdout",
     "output_type": "stream",
     "text": [
      "[0, 460, 0, 410, 870]\n",
      "[499, 515, 499, 488, 2001]\n",
      "[[0, 423, 0, 76], [0, 460, 0, 55], [0, 88, 0, 411], [0, 78, 0, 410]]\n"
     ]
    }
   ],
   "source": [
    "print(acc_sum)\n",
    "print(total_sum)\n",
    "print(pred_list)"
   ]
  },
  {
   "cell_type": "code",
   "execution_count": 33,
   "metadata": {},
   "outputs": [
    {
     "name": "stdout",
     "output_type": "stream",
     "text": [
      "Accuracy pred CRBD: 0.000 ,Bisse: 0.893 ,DDD: 0.000 ,PLD: 0.840 ,Total: 0.435   \n"
     ]
    }
   ],
   "source": [
    "result = [a / b if b != 0 else 0 for a, b in zip(acc_sum, total_sum)]\n",
    "\n",
    "print(\"Accuracy pred CRBD: %.3f ,Bisse: %.3f ,DDD: %.3f ,PLD: %.3f ,Total: %.3f   \" % tuple(result))\n"
   ]
  },
  {
   "cell_type": "code",
   "execution_count": 34,
   "metadata": {},
   "outputs": [
    {
     "data": {
      "image/png": "[encoded data removed]",
      "text/plain": [
       "<Figure size 640x480 with 1 Axes>"
      ]
     },
     "metadata": {},
     "output_type": "display_data"
    },
    {
     "data": {
      "image/png": "[encoded data removed]",
      "text/plain": [
       "<Figure size 640x480 with 1 Axes>"
      ]
     },
     "metadata": {},
     "output_type": "display_data"
    },
    {
     "data": {
      "image/png": "[encoded data removed]",
      "text/plain": [
       "<Figure size 640x480 with 1 Axes>"
      ]
     },
     "metadata": {},
     "output_type": "display_data"
    },
    {
     "data": {
      "image/png": "[encoded data removed]",
      "text/plain": [
       "<Figure size 640x480 with 1 Axes>"
      ]
     },
     "metadata": {},
     "output_type": "display_data"
    }
   ],
   "source": [
    "for i, sublist in enumerate(pred_list):\n",
    "    fig, ax = plt.subplots()\n",
    "\n",
    "    preds = ['CRBD', 'Bisse', 'DDD', 'PLD']\n",
    "    counts = sublist\n",
    "    bar_labels = ['red', 'blue', 'red', 'orange']\n",
    "    bar_colors = ['tab:red', 'tab:blue', 'tab:red', 'tab:orange']\n",
    "\n",
    "    ax.bar(preds, counts, color=bar_colors)\n",
    "\n",
    "    ax.set_ylabel('counts')\n",
    "    ax.set_title('Prediction')\n",
    "\n",
    "    plt.show()\n",
    "\n"
   ]
  }
 ],
 "metadata": {
  "interpreter": {
   "hash": "138d5174590f664ca777ea0c6a2c1e1765b79912a6535a48b658f2d2e9fc3576"
  },
  "kernelspec": {
   "display_name": "Python 3.8.12 64-bit ('pytorch': conda)",
   "language": "python",
   "name": "python3"
  },
  "language_info": {
   "codemirror_mode": {
    "name": "ipython",
    "version": 3
   },
   "file_extension": ".py",
   "mimetype": "text/x-python",
   "name": "python",
   "nbconvert_exporter": "python",
   "pygments_lexer": "ipython3",
   "version": "3.11.4"
  },
  "orig_nbformat": 4
 },
 "nbformat": 4,
 "nbformat_minor": 2
}
